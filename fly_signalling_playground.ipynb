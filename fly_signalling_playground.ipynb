{
 "cells": [
  {
   "cell_type": "code",
   "execution_count": null,
   "metadata": {},
   "outputs": [],
   "source": [
    "import diffupy\n",
    "import networkx\n",
    "import pandas as pd\n",
    "from matplotlib import pyplot as plt\n",
    "import matplotlib\n",
    "import scipy\n",
    "from scipy import stats\n",
    "import random\n",
    "import numpy as np\n",
    "from sklearn import neighbors\n",
    "from scipy.stats import norm, gaussian_kde\n",
    "from networkx import algorithms\n",
    "from scipy.special import ndtr\n",
    "from numpy.polynomial import Polynomial\n",
    "import itertools"
   ]
  },
  {
   "cell_type": "markdown",
   "metadata": {},
   "source": [
    "## Load network and phospho data"
   ]
  },
  {
   "cell_type": "code",
   "execution_count": 2,
   "metadata": {},
   "outputs": [],
   "source": [
    "network_dataframe = pd.read_csv(\"data/BIOGRID-PUBLICATION-13022-4.1.190.tab3.txt\", sep='\\t')"
   ]
  },
  {
   "cell_type": "code",
   "execution_count": 3,
   "metadata": {},
   "outputs": [
    {
     "data": {
      "text/plain": [
       "Index(['#BioGRID Interaction ID', 'Entrez Gene Interactor A',\n",
       "       'Entrez Gene Interactor B', 'BioGRID ID Interactor A',\n",
       "       'BioGRID ID Interactor B', 'Systematic Name Interactor A',\n",
       "       'Systematic Name Interactor B', 'Official Symbol Interactor A',\n",
       "       'Official Symbol Interactor B', 'Synonyms Interactor A',\n",
       "       'Synonyms Interactor B', 'Experimental System',\n",
       "       'Experimental System Type', 'Author', 'Publication Source',\n",
       "       'Organism ID Interactor A', 'Organism ID Interactor B', 'Throughput',\n",
       "       'Score', 'Modification', 'Qualifications', 'Tags', 'Source Database',\n",
       "       'SWISS-PROT Accessions Interactor A', 'TREMBL Accessions Interactor A',\n",
       "       'REFSEQ Accessions Interactor A', 'SWISS-PROT Accessions Interactor B',\n",
       "       'TREMBL Accessions Interactor B', 'REFSEQ Accessions Interactor B',\n",
       "       'Ontology Term IDs', 'Ontology Term Names', 'Ontology Term Categories',\n",
       "       'Ontology Term Qualifier IDs', 'Ontology Term Qualifier Names',\n",
       "       'Ontology Term Types', 'Organism Name Interactor A',\n",
       "       'Organism Name Interactor B'],\n",
       "      dtype='object')"
      ]
     },
     "execution_count": 3,
     "metadata": {},
     "output_type": "execute_result"
    }
   ],
   "source": [
    "network_dataframe.columns"
   ]
  },
  {
   "cell_type": "code",
   "execution_count": 4,
   "metadata": {},
   "outputs": [],
   "source": [
    "phospho_dataframe = pd.read_csv(\"data/final_ascored_pep_tgr09076_09614.csv\")"
   ]
  },
  {
   "cell_type": "code",
   "execution_count": 5,
   "metadata": {},
   "outputs": [
    {
     "data": {
      "text/html": [
       "<div>\n",
       "<style scoped>\n",
       "    .dataframe tbody tr th:only-of-type {\n",
       "        vertical-align: middle;\n",
       "    }\n",
       "\n",
       "    .dataframe tbody tr th {\n",
       "        vertical-align: top;\n",
       "    }\n",
       "\n",
       "    .dataframe thead th {\n",
       "        text-align: right;\n",
       "    }\n",
       "</style>\n",
       "<table border=\"1\" class=\"dataframe\">\n",
       "  <thead>\n",
       "    <tr style=\"text-align: right;\">\n",
       "      <th></th>\n",
       "      <th>Uniprot ID</th>\n",
       "      <th>FlyBase ID</th>\n",
       "      <th>Gene name</th>\n",
       "      <th>PeptideSequence (Ascore &gt;= 13)</th>\n",
       "      <th>log2 fold change</th>\n",
       "      <th>negative_log_one_minus_prob</th>\n",
       "      <th>Nuclear cycle 14 parent protein conc. (uM) (some proteins not measured)</th>\n",
       "      <th>prob</th>\n",
       "      <th>1-prob</th>\n",
       "      <th>log(1+-log(1-p))</th>\n",
       "      <th>Unnamed: 10</th>\n",
       "      <th>Non-outlier concentration</th>\n",
       "      <th>log non-outlier concentration</th>\n",
       "    </tr>\n",
       "  </thead>\n",
       "  <tbody>\n",
       "    <tr>\n",
       "      <th>0</th>\n",
       "      <td>X2JI50</td>\n",
       "      <td>FBgn0003159</td>\n",
       "      <td>CG2841</td>\n",
       "      <td>R.SEASQQS#PTPVPK.K</td>\n",
       "      <td>-0.218262</td>\n",
       "      <td>0.686956</td>\n",
       "      <td>0.000634</td>\n",
       "      <td>0.378837</td>\n",
       "      <td>0.621163</td>\n",
       "      <td>0.836929</td>\n",
       "      <td>NaN</td>\n",
       "      <td>0.000634</td>\n",
       "      <td>-3.198120</td>\n",
       "    </tr>\n",
       "    <tr>\n",
       "      <th>1</th>\n",
       "      <td>X2JI50</td>\n",
       "      <td>FBgn0003159</td>\n",
       "      <td>CG2841</td>\n",
       "      <td>K.VLLNRT#PT#PEPR.S</td>\n",
       "      <td>0.554219</td>\n",
       "      <td>1.449185</td>\n",
       "      <td>0.000634</td>\n",
       "      <td>0.633772</td>\n",
       "      <td>0.366228</td>\n",
       "      <td>1.161124</td>\n",
       "      <td>NaN</td>\n",
       "      <td>0.000634</td>\n",
       "      <td>-3.198120</td>\n",
       "    </tr>\n",
       "    <tr>\n",
       "      <th>2</th>\n",
       "      <td>X2JF73</td>\n",
       "      <td>FBgn0030674</td>\n",
       "      <td>HUWE1</td>\n",
       "      <td>R.RDNS#SDGATGAGSIVYR.A</td>\n",
       "      <td>0.067819</td>\n",
       "      <td>0.411179</td>\n",
       "      <td>0.059093</td>\n",
       "      <td>0.247992</td>\n",
       "      <td>0.752008</td>\n",
       "      <td>0.614031</td>\n",
       "      <td>NaN</td>\n",
       "      <td>0.059093</td>\n",
       "      <td>-1.228465</td>\n",
       "    </tr>\n",
       "    <tr>\n",
       "      <th>3</th>\n",
       "      <td>X2JF73</td>\n",
       "      <td>FBgn0030674</td>\n",
       "      <td>HUWE1</td>\n",
       "      <td>K.SQSGGS#PPIPK.R</td>\n",
       "      <td>0.001298</td>\n",
       "      <td>0.304538</td>\n",
       "      <td>0.059093</td>\n",
       "      <td>0.190298</td>\n",
       "      <td>0.809702</td>\n",
       "      <td>0.483641</td>\n",
       "      <td>NaN</td>\n",
       "      <td>0.059093</td>\n",
       "      <td>-1.228465</td>\n",
       "    </tr>\n",
       "    <tr>\n",
       "      <th>4</th>\n",
       "      <td>X2JF73</td>\n",
       "      <td>FBgn0030674</td>\n",
       "      <td>HUWE1</td>\n",
       "      <td>K.S#QSGGS#PPIPK.R</td>\n",
       "      <td>0.000433</td>\n",
       "      <td>0.301569</td>\n",
       "      <td>0.059093</td>\n",
       "      <td>0.188630</td>\n",
       "      <td>0.811370</td>\n",
       "      <td>0.479386</td>\n",
       "      <td>NaN</td>\n",
       "      <td>0.059093</td>\n",
       "      <td>-1.228465</td>\n",
       "    </tr>\n",
       "    <tr>\n",
       "      <th>...</th>\n",
       "      <td>...</td>\n",
       "      <td>...</td>\n",
       "      <td>...</td>\n",
       "      <td>...</td>\n",
       "      <td>...</td>\n",
       "      <td>...</td>\n",
       "      <td>...</td>\n",
       "      <td>...</td>\n",
       "      <td>...</td>\n",
       "      <td>...</td>\n",
       "      <td>...</td>\n",
       "      <td>...</td>\n",
       "      <td>...</td>\n",
       "    </tr>\n",
       "    <tr>\n",
       "      <th>4346</th>\n",
       "      <td>A0A0B4JD97</td>\n",
       "      <td>FBgn0026620</td>\n",
       "      <td>tacc</td>\n",
       "      <td>K.ERQAPISNS#PPIPTHQR.L</td>\n",
       "      <td>0.076192</td>\n",
       "      <td>0.507541</td>\n",
       "      <td>0.296167</td>\n",
       "      <td>0.296580</td>\n",
       "      <td>0.703420</td>\n",
       "      <td>0.705471</td>\n",
       "      <td>NaN</td>\n",
       "      <td>0.296167</td>\n",
       "      <td>-0.528463</td>\n",
       "    </tr>\n",
       "    <tr>\n",
       "      <th>4347</th>\n",
       "      <td>A0A0B4JD97</td>\n",
       "      <td>FBgn0026620</td>\n",
       "      <td>tacc</td>\n",
       "      <td>K.EQATLS#AS#DEK.D</td>\n",
       "      <td>0.402212</td>\n",
       "      <td>1.173277</td>\n",
       "      <td>0.296167</td>\n",
       "      <td>0.556587</td>\n",
       "      <td>0.443413</td>\n",
       "      <td>1.069401</td>\n",
       "      <td>NaN</td>\n",
       "      <td>0.296167</td>\n",
       "      <td>-0.528463</td>\n",
       "    </tr>\n",
       "    <tr>\n",
       "      <th>4348</th>\n",
       "      <td>A0A0B4JD97</td>\n",
       "      <td>FBgn0026620</td>\n",
       "      <td>tacc</td>\n",
       "      <td>K.EQAT#LS#ASDEK.D</td>\n",
       "      <td>0.238151</td>\n",
       "      <td>0.826755</td>\n",
       "      <td>0.296167</td>\n",
       "      <td>0.436204</td>\n",
       "      <td>0.563796</td>\n",
       "      <td>0.917377</td>\n",
       "      <td>NaN</td>\n",
       "      <td>0.296167</td>\n",
       "      <td>-0.528463</td>\n",
       "    </tr>\n",
       "    <tr>\n",
       "      <th>4349</th>\n",
       "      <td>A0A023GRW3</td>\n",
       "      <td>FBgn0031319</td>\n",
       "      <td>CG4896</td>\n",
       "      <td>R.RCS#S#DEDSDMASEFR.Q</td>\n",
       "      <td>0.395448</td>\n",
       "      <td>0.906144</td>\n",
       "      <td>0.001200</td>\n",
       "      <td>0.466391</td>\n",
       "      <td>0.533609</td>\n",
       "      <td>0.957197</td>\n",
       "      <td>NaN</td>\n",
       "      <td>0.001200</td>\n",
       "      <td>-2.920872</td>\n",
       "    </tr>\n",
       "    <tr>\n",
       "      <th>4350</th>\n",
       "      <td>A0A023GRW3</td>\n",
       "      <td>FBgn0031319</td>\n",
       "      <td>CG4896</td>\n",
       "      <td>K.LVGAYGGPS#DS#EDDNSANQK.A</td>\n",
       "      <td>0.287904</td>\n",
       "      <td>0.774184</td>\n",
       "      <td>0.001200</td>\n",
       "      <td>0.415281</td>\n",
       "      <td>0.584719</td>\n",
       "      <td>0.888844</td>\n",
       "      <td>NaN</td>\n",
       "      <td>0.001200</td>\n",
       "      <td>-2.920872</td>\n",
       "    </tr>\n",
       "  </tbody>\n",
       "</table>\n",
       "<p>4351 rows × 13 columns</p>\n",
       "</div>"
      ],
      "text/plain": [
       "      Uniprot ID   FlyBase ID Gene name PeptideSequence (Ascore >= 13)  \\\n",
       "0         X2JI50  FBgn0003159    CG2841             R.SEASQQS#PTPVPK.K   \n",
       "1         X2JI50  FBgn0003159    CG2841             K.VLLNRT#PT#PEPR.S   \n",
       "2         X2JF73  FBgn0030674     HUWE1         R.RDNS#SDGATGAGSIVYR.A   \n",
       "3         X2JF73  FBgn0030674     HUWE1               K.SQSGGS#PPIPK.R   \n",
       "4         X2JF73  FBgn0030674     HUWE1              K.S#QSGGS#PPIPK.R   \n",
       "...          ...          ...       ...                            ...   \n",
       "4346  A0A0B4JD97  FBgn0026620      tacc         K.ERQAPISNS#PPIPTHQR.L   \n",
       "4347  A0A0B4JD97  FBgn0026620      tacc              K.EQATLS#AS#DEK.D   \n",
       "4348  A0A0B4JD97  FBgn0026620      tacc              K.EQAT#LS#ASDEK.D   \n",
       "4349  A0A023GRW3  FBgn0031319    CG4896          R.RCS#S#DEDSDMASEFR.Q   \n",
       "4350  A0A023GRW3  FBgn0031319    CG4896     K.LVGAYGGPS#DS#EDDNSANQK.A   \n",
       "\n",
       "      log2 fold change  negative_log_one_minus_prob  \\\n",
       "0            -0.218262                     0.686956   \n",
       "1             0.554219                     1.449185   \n",
       "2             0.067819                     0.411179   \n",
       "3             0.001298                     0.304538   \n",
       "4             0.000433                     0.301569   \n",
       "...                ...                          ...   \n",
       "4346          0.076192                     0.507541   \n",
       "4347          0.402212                     1.173277   \n",
       "4348          0.238151                     0.826755   \n",
       "4349          0.395448                     0.906144   \n",
       "4350          0.287904                     0.774184   \n",
       "\n",
       "      Nuclear cycle 14 parent protein conc. (uM) (some proteins not measured)  \\\n",
       "0                                              0.000634                         \n",
       "1                                              0.000634                         \n",
       "2                                              0.059093                         \n",
       "3                                              0.059093                         \n",
       "4                                              0.059093                         \n",
       "...                                                 ...                         \n",
       "4346                                           0.296167                         \n",
       "4347                                           0.296167                         \n",
       "4348                                           0.296167                         \n",
       "4349                                           0.001200                         \n",
       "4350                                           0.001200                         \n",
       "\n",
       "          prob    1-prob  log(1+-log(1-p))  Unnamed: 10  \\\n",
       "0     0.378837  0.621163          0.836929          NaN   \n",
       "1     0.633772  0.366228          1.161124          NaN   \n",
       "2     0.247992  0.752008          0.614031          NaN   \n",
       "3     0.190298  0.809702          0.483641          NaN   \n",
       "4     0.188630  0.811370          0.479386          NaN   \n",
       "...        ...       ...               ...          ...   \n",
       "4346  0.296580  0.703420          0.705471          NaN   \n",
       "4347  0.556587  0.443413          1.069401          NaN   \n",
       "4348  0.436204  0.563796          0.917377          NaN   \n",
       "4349  0.466391  0.533609          0.957197          NaN   \n",
       "4350  0.415281  0.584719          0.888844          NaN   \n",
       "\n",
       "      Non-outlier concentration  log non-outlier concentration  \n",
       "0                      0.000634                      -3.198120  \n",
       "1                      0.000634                      -3.198120  \n",
       "2                      0.059093                      -1.228465  \n",
       "3                      0.059093                      -1.228465  \n",
       "4                      0.059093                      -1.228465  \n",
       "...                         ...                            ...  \n",
       "4346                   0.296167                      -0.528463  \n",
       "4347                   0.296167                      -0.528463  \n",
       "4348                   0.296167                      -0.528463  \n",
       "4349                   0.001200                      -2.920872  \n",
       "4350                   0.001200                      -2.920872  \n",
       "\n",
       "[4351 rows x 13 columns]"
      ]
     },
     "execution_count": 5,
     "metadata": {},
     "output_type": "execute_result"
    }
   ],
   "source": [
    "phospho_dataframe"
   ]
  },
  {
   "cell_type": "code",
   "execution_count": 6,
   "metadata": {},
   "outputs": [
    {
     "name": "stdout",
     "output_type": "stream",
     "text": [
      "Common gene names: 951, out of 1595 in phospho data and 6732 in network\n"
     ]
    }
   ],
   "source": [
    "phospho_names = set(phospho_dataframe['Gene name'])\n",
    "network_names = set(network_dataframe['Official Symbol Interactor A']) | set(network_dataframe['Official Symbol Interactor B']) \n",
    "common = phospho_names & network_names\n",
    "\n",
    "print(\"Common gene names: {}, out of {} in phospho data and {} in network\".format(len(common), len(phospho_names), \n",
    "                                                                                  len(network_names)))"
   ]
  },
  {
   "cell_type": "code",
   "execution_count": 7,
   "metadata": {},
   "outputs": [],
   "source": [
    "network_dataframe = network_dataframe[['Official Symbol Interactor A', 'Official Symbol Interactor B']]"
   ]
  },
  {
   "cell_type": "code",
   "execution_count": 8,
   "metadata": {},
   "outputs": [],
   "source": [
    "ppi = networkx.from_pandas_edgelist(network_dataframe, 'Official Symbol Interactor A',  \n",
    "                                    'Official Symbol Interactor B').to_undirected()"
   ]
  },
  {
   "cell_type": "code",
   "execution_count": 9,
   "metadata": {},
   "outputs": [
    {
     "data": {
      "text/plain": [
       "<matplotlib.axes._subplots.AxesSubplot at 0x21f9594f7f0>"
      ]
     },
     "execution_count": 9,
     "metadata": {},
     "output_type": "execute_result"
    },
    {
     "data": {
      "image/png": "[encoded data removed]",
      "text/plain": [
       "<Figure size 432x288 with 1 Axes>"
      ]
     },
     "metadata": {
      "needs_background": "light"
     },
     "output_type": "display_data"
    }
   ],
   "source": [
    "phospho_measure = 'log2 fold change' # 'log2 fold change'\n",
    "phospho_measure_values = phospho_dataframe.groupby('Gene name')[phospho_measure].mean()\n",
    "\n",
    "phospho_dataframe.groupby('Gene name')[phospho_measure].count().hist(bins=range(20), density=True)"
   ]
  },
  {
   "cell_type": "code",
   "execution_count": 10,
   "metadata": {},
   "outputs": [],
   "source": [
    "networkx.set_node_attributes(ppi, dict(phospho_measure_values), phospho_measure)"
   ]
  },
  {
   "cell_type": "markdown",
   "metadata": {},
   "source": [
    "## Test centrality v.s. fold change"
   ]
  },
  {
   "cell_type": "code",
   "execution_count": 11,
   "metadata": {},
   "outputs": [],
   "source": [
    "closeness_centrality = networkx.closeness_centrality(ppi)\n",
    "betweenness_centrality = networkx.betweenness_centrality(ppi)\n",
    "degree_centrality = networkx.degree_centrality(ppi)"
   ]
  },
  {
   "cell_type": "code",
   "execution_count": 12,
   "metadata": {},
   "outputs": [
    {
     "name": "stdout",
     "output_type": "stream",
     "text": [
      "SpearmanrResult(correlation=0.8278346601737859, pvalue=1.739196308467747e-240)\n",
      "SpearmanrResult(correlation=0.8709112797943337, pvalue=4.773200411025748e-295)\n",
      "SpearmanrResult(correlation=0.9526819789879247, pvalue=0.0)\n"
     ]
    }
   ],
   "source": [
    "x, y = zip(*[(closeness_centrality[gene_name], betweenness_centrality[gene_name]) for gene_name in common])\n",
    "print(scipy.stats.spearmanr(x, y, nan_policy='omit'))\n",
    "x, y = zip(*[(closeness_centrality[gene_name], degree_centrality[gene_name]) for gene_name in common])\n",
    "print(scipy.stats.spearmanr(x, y, nan_policy='omit'))\n",
    "x, y = zip(*[(degree_centrality[gene_name], betweenness_centrality[gene_name]) for gene_name in common])\n",
    "print(scipy.stats.spearmanr(x, y, nan_policy='omit'))\n"
   ]
  },
  {
   "cell_type": "code",
   "execution_count": 13,
   "metadata": {},
   "outputs": [],
   "source": [
    "phospho_measure = 'log2 fold change' # 'log2 fold change'\n",
    "phospho_measure_values = phospho_dataframe.groupby('Gene name')[phospho_measure].mean()"
   ]
  },
  {
   "cell_type": "code",
   "execution_count": 14,
   "metadata": {},
   "outputs": [
    {
     "data": {
      "text/plain": [
       "SpearmanrResult(correlation=0.01567070362907561, pvalue=0.6293430458808142)"
      ]
     },
     "execution_count": 14,
     "metadata": {},
     "output_type": "execute_result"
    }
   ],
   "source": [
    "# Spearman correlation\n",
    "centrality_measure = closeness_centrality\n",
    "x, y = zip(*[(phospho_measure_values[gene_name], centrality_measure[gene_name]) for gene_name in common])\n",
    "scipy.stats.spearmanr(x, y, nan_policy='omit')"
   ]
  },
  {
   "cell_type": "code",
   "execution_count": 15,
   "metadata": {},
   "outputs": [
    {
     "data": {
      "text/plain": [
       "SpearmanrResult(correlation=-0.028989083095221902, pvalue=0.37186488098265047)"
      ]
     },
     "execution_count": 15,
     "metadata": {},
     "output_type": "execute_result"
    }
   ],
   "source": [
    "# Spearman correlation\n",
    "centrality_measure = betweenness_centrality\n",
    "x, y = zip(*[(phospho_measure_values[gene_name], centrality_measure[gene_name]) for gene_name in common])\n",
    "scipy.stats.spearmanr(x, y, nan_policy='omit')"
   ]
  },
  {
   "cell_type": "code",
   "execution_count": 16,
   "metadata": {},
   "outputs": [
    {
     "data": {
      "text/plain": [
       "SpearmanrResult(correlation=0.002300924758765903, pvalue=0.9435065111045666)"
      ]
     },
     "execution_count": 16,
     "metadata": {},
     "output_type": "execute_result"
    }
   ],
   "source": [
    "# Spearman correlation\n",
    "centrality_measure = degree_centrality\n",
    "x, y = zip(*[(phospho_measure_values[gene_name], centrality_measure[gene_name]) for gene_name in common])\n",
    "scipy.stats.spearmanr(x, y, nan_policy='omit')"
   ]
  },
  {
   "cell_type": "code",
   "execution_count": 17,
   "metadata": {},
   "outputs": [],
   "source": [
    "phospho_measure = 'Non-outlier concentration' # 'log2 fold change'\n",
    "phospho_measure_values = phospho_dataframe.groupby('Gene name')[phospho_measure].mean()"
   ]
  },
  {
   "cell_type": "code",
   "execution_count": 18,
   "metadata": {},
   "outputs": [
    {
     "data": {
      "text/plain": [
       "SpearmanrResult(correlation=0.02542338876672692, pvalue=0.4623502465386954)"
      ]
     },
     "execution_count": 18,
     "metadata": {},
     "output_type": "execute_result"
    }
   ],
   "source": [
    "# Spearman correlation\n",
    "centrality_measure = closeness_centrality\n",
    "x, y = zip(*[(phospho_measure_values[gene_name], centrality_measure[gene_name]) for gene_name in common])\n",
    "scipy.stats.spearmanr(x, y, nan_policy='omit')"
   ]
  },
  {
   "cell_type": "code",
   "execution_count": 19,
   "metadata": {},
   "outputs": [
    {
     "data": {
      "text/plain": [
       "SpearmanrResult(correlation=0.06915878831573685, pvalue=0.045345759198447765)"
      ]
     },
     "execution_count": 19,
     "metadata": {},
     "output_type": "execute_result"
    }
   ],
   "source": [
    "# Spearman correlation\n",
    "centrality_measure = betweenness_centrality\n",
    "x, y = zip(*[(phospho_measure_values[gene_name], centrality_measure[gene_name]) for gene_name in common])\n",
    "scipy.stats.spearmanr(x, y, nan_policy='omit')"
   ]
  },
  {
   "cell_type": "code",
   "execution_count": 20,
   "metadata": {},
   "outputs": [
    {
     "data": {
      "text/plain": [
       "SpearmanrResult(correlation=0.05099748585474002, pvalue=0.14020093024708355)"
      ]
     },
     "execution_count": 20,
     "metadata": {},
     "output_type": "execute_result"
    }
   ],
   "source": [
    "# Spearman correlation\n",
    "centrality_measure = degree_centrality\n",
    "x, y = zip(*[(phospho_measure_values[gene_name], centrality_measure[gene_name]) for gene_name in common])\n",
    "scipy.stats.spearmanr(x, y, nan_policy='omit')"
   ]
  },
  {
   "cell_type": "markdown",
   "metadata": {},
   "source": []
  },
  {
   "cell_type": "markdown",
   "metadata": {},
   "source": [
    "## Up/Down analysis"
   ]
  },
  {
   "cell_type": "code",
   "execution_count": null,
   "metadata": {},
   "outputs": [],
   "source": [
    "def get_up_down_sets(data, significance_mode, significance_threshold):\n",
    "    if significance_mode == \"value\":\n",
    "        up_proteins = data[data > significance_threshold]\n",
    "        down_proteins = data[data < -significance_threshold]\n",
    "    elif significance_mode == \"std\":\n",
    "        std = np.std(data)\n",
    "        mean = np.mean(data)\n",
    "        up_proteins = data[(data - mean) / std > significance_threshold]\n",
    "        down_proteins = data[(data - mean) / std < -significance_threshold]\n",
    "    print(\"overactivated proteins: {}, underactivated proteins: {}, rest: {}\".format(len(up_proteins), \n",
    "        len(down_proteins), len(data) - len(up_proteins) - len(down_proteins)))\n",
    "    return up_proteins, down_proteins"
   ]
  },
  {
   "cell_type": "markdown",
   "metadata": {},
   "source": [
    "### Individual node scores"
   ]
  },
  {
   "cell_type": "code",
   "execution_count": 229,
   "metadata": {},
   "outputs": [
    {
     "name": "stdout",
     "output_type": "stream",
     "text": [
      "overactivated proteins: 584, underactivated proteins: 367, rest: 0\n",
      "metric means: up: 2.25e-01, down: 2.23e-01, total: 2.24e-01\n",
      "p-values for closeness centrality (against full set): up: 3.79e-01, down: 3.38e-01\n",
      "\n",
      "metric means: up: 5.71e-04, down: 6.07e-04, total: 5.85e-04\n",
      "p-values for betweeness centrality (against full set): up: 4.09e-01, down: 3.77e-01\n",
      "\n",
      "metric means: up: 1.03e-03, down: 9.64e-04, total: 1.00e-03\n",
      "p-values for degree centrality (against full set): up: 4.73e-01, down: 4.64e-01\n"
     ]
    }
   ],
   "source": [
    "def metric_prot_scores(metric, proteins):\n",
    "    return [metric[p] for p in proteins]\n",
    "\n",
    "up_proteins, down_proteins = get_up_down_sets(phospho_measure_values, \n",
    "                                              significance_mode='value', significance_threshold=0)\n",
    "up_metric = metric_prot_scores(closeness_centrality, up_proteins.index)\n",
    "down_metric = metric_prot_scores(closeness_centrality, down_proteins.index)\n",
    "total_metric = metric_prot_scores(closeness_centrality, phospho_measure_values.index)\n",
    "print(\"metric means: up: {:.2e}, down: {:.2e}, total: {:.2e}\".format(np.mean(up_metric), \n",
    "                                                                      np.mean(down_metric), \n",
    "                                                                      np.mean(total_metric)))\n",
    "print(\"p-values for closeness centrality (against full set): up: {:.2e}, down: {:.2e}\".format(\n",
    "    stats.mannwhitneyu(up_metric, total_metric)[1], stats.mannwhitneyu(down_metric, total_metric)[1]))\n",
    "\n",
    "print(\"\")\n",
    "\n",
    "up_metric = metric_prot_scores(betweenness_centrality, up_proteins.index)\n",
    "down_metric = metric_prot_scores(betweenness_centrality, down_proteins.index)\n",
    "total_metric = metric_prot_scores(betweenness_centrality, phospho_measure_values.index)\n",
    "print(\"metric means: up: {:.2e}, down: {:.2e}, total: {:.2e}\".format(np.mean(up_metric), \n",
    "                                                                      np.mean(down_metric), \n",
    "                                                                      np.mean(total_metric)))\n",
    "print(\"p-values for betweeness centrality (against full set): up: {:.2e}, down: {:.2e}\".format(\n",
    "    stats.mannwhitneyu(up_metric, total_metric)[1], stats.mannwhitneyu(down_metric, total_metric)[1]))\n",
    "\n",
    "print(\"\")\n",
    "\n",
    "up_metric = metric_prot_scores(degree_centrality, up_proteins.index)\n",
    "down_metric = metric_prot_scores(degree_centrality, down_proteins.index)\n",
    "total_metric = metric_prot_scores(degree_centrality, phospho_measure_values.index)\n",
    "print(\"metric means: up: {:.2e}, down: {:.2e}, total: {:.2e}\".format(np.mean(up_metric), \n",
    "                                                                      np.mean(down_metric), \n",
    "                                                                      np.mean(total_metric)))\n",
    "print(\"p-values for degree centrality (against full set): up: {:.2e}, down: {:.2e}\".format(\n",
    "    stats.mannwhitneyu(up_metric, total_metric)[1], stats.mannwhitneyu(down_metric, total_metric)[1]))"
   ]
  },
  {
   "cell_type": "code",
   "execution_count": 230,
   "metadata": {},
   "outputs": [
    {
     "name": "stdout",
     "output_type": "stream",
     "text": [
      "overactivated proteins: 11, underactivated proteins: 35, rest: 905\n",
      "metric means: up: 2.10e-01, down: 2.35e-01, total: 2.24e-01\n",
      "p-values for closeness centrality (against full set): up: 4.06e-02, down: 3.70e-02\n",
      "\n",
      "metric means: up: 4.93e-04, down: 7.93e-04, total: 5.85e-04\n",
      "p-values for betweeness centrality (against full set): up: 2.01e-01, down: 1.61e-02\n",
      "\n",
      "metric means: up: 9.72e-04, down: 1.22e-03, total: 1.00e-03\n",
      "p-values for degree centrality (against full set): up: 2.38e-01, down: 4.02e-02\n"
     ]
    }
   ],
   "source": [
    "def metric_prot_scores(metric, proteins):\n",
    "    return [metric[p] for p in proteins]\n",
    "\n",
    "up_proteins, down_proteins = get_up_down_sets(phospho_measure_values, \n",
    "                                              significance_mode='std', significance_threshold=2)\n",
    "up_metric = metric_prot_scores(closeness_centrality, up_proteins.index)\n",
    "down_metric = metric_prot_scores(closeness_centrality, down_proteins.index)\n",
    "total_metric = metric_prot_scores(closeness_centrality, phospho_measure_values.index)\n",
    "print(\"metric means: up: {:.2e}, down: {:.2e}, total: {:.2e}\".format(np.mean(up_metric), \n",
    "                                                                      np.mean(down_metric), \n",
    "                                                                      np.mean(total_metric)))\n",
    "print(\"p-values for closeness centrality (against full set): up: {:.2e}, down: {:.2e}\".format(\n",
    "    stats.mannwhitneyu(up_metric, total_metric)[1], stats.mannwhitneyu(down_metric, total_metric)[1]))\n",
    "\n",
    "print(\"\")\n",
    "\n",
    "up_metric = metric_prot_scores(betweenness_centrality, up_proteins.index)\n",
    "down_metric = metric_prot_scores(betweenness_centrality, down_proteins.index)\n",
    "total_metric = metric_prot_scores(betweenness_centrality, phospho_measure_values.index)\n",
    "print(\"metric means: up: {:.2e}, down: {:.2e}, total: {:.2e}\".format(np.mean(up_metric), \n",
    "                                                                      np.mean(down_metric), \n",
    "                                                                      np.mean(total_metric)))\n",
    "print(\"p-values for betweeness centrality (against full set): up: {:.2e}, down: {:.2e}\".format(\n",
    "    stats.mannwhitneyu(up_metric, total_metric)[1], stats.mannwhitneyu(down_metric, total_metric)[1]))\n",
    "\n",
    "print(\"\")\n",
    "\n",
    "up_metric = metric_prot_scores(degree_centrality, up_proteins.index)\n",
    "down_metric = metric_prot_scores(degree_centrality, down_proteins.index)\n",
    "total_metric = metric_prot_scores(degree_centrality, phospho_measure_values.index)\n",
    "print(\"metric means: up: {:.2e}, down: {:.2e}, total: {:.2e}\".format(np.mean(up_metric), \n",
    "                                                                      np.mean(down_metric), \n",
    "                                                                      np.mean(total_metric)))\n",
    "print(\"p-values for degree centrality (against full set): up: {:.2e}, down: {:.2e}\".format(\n",
    "    stats.mannwhitneyu(up_metric, total_metric)[1], stats.mannwhitneyu(down_metric, total_metric)[1]))"
   ]
  },
  {
   "cell_type": "code",
   "execution_count": 231,
   "metadata": {},
   "outputs": [
    {
     "name": "stdout",
     "output_type": "stream",
     "text": [
      "overactivated proteins: 102, underactivated proteins: 108, rest: 741\n",
      "metric means: up: 2.25e-01, down: 2.25e-01, total: 2.24e-01\n",
      "p-values for closeness centrality (against full set): up: 4.38e-01, down: 4.48e-01\n",
      "\n",
      "metric means: up: 5.07e-04, down: 9.77e-04, total: 5.85e-04\n",
      "p-values for betweeness centrality (against full set): up: 4.85e-01, down: 2.15e-01\n",
      "\n",
      "metric means: up: 1.04e-03, down: 1.12e-03, total: 1.00e-03\n",
      "p-values for degree centrality (against full set): up: 2.66e-01, down: 4.76e-01\n"
     ]
    }
   ],
   "source": [
    "def metric_prot_scores(metric, proteins):\n",
    "    return [metric[p] for p in proteins]\n",
    "\n",
    "up_proteins, down_proteins = get_up_down_sets(phospho_measure_values, \n",
    "                                              significance_mode='std', significance_threshold=1)\n",
    "up_metric = metric_prot_scores(closeness_centrality, up_proteins.index)\n",
    "down_metric = metric_prot_scores(closeness_centrality, down_proteins.index)\n",
    "total_metric = metric_prot_scores(closeness_centrality, phospho_measure_values.index)\n",
    "print(\"metric means: up: {:.2e}, down: {:.2e}, total: {:.2e}\".format(np.mean(up_metric), \n",
    "                                                                      np.mean(down_metric), \n",
    "                                                                      np.mean(total_metric)))\n",
    "print(\"p-values for closeness centrality (against full set): up: {:.2e}, down: {:.2e}\".format(\n",
    "    stats.mannwhitneyu(up_metric, total_metric)[1], stats.mannwhitneyu(down_metric, total_metric)[1]))\n",
    "\n",
    "print(\"\")\n",
    "\n",
    "up_metric = metric_prot_scores(betweenness_centrality, up_proteins.index)\n",
    "down_metric = metric_prot_scores(betweenness_centrality, down_proteins.index)\n",
    "total_metric = metric_prot_scores(betweenness_centrality, phospho_measure_values.index)\n",
    "print(\"metric means: up: {:.2e}, down: {:.2e}, total: {:.2e}\".format(np.mean(up_metric), \n",
    "                                                                      np.mean(down_metric), \n",
    "                                                                      np.mean(total_metric)))\n",
    "print(\"p-values for betweeness centrality (against full set): up: {:.2e}, down: {:.2e}\".format(\n",
    "    stats.mannwhitneyu(up_metric, total_metric)[1], stats.mannwhitneyu(down_metric, total_metric)[1]))\n",
    "\n",
    "print(\"\")\n",
    "\n",
    "up_metric = metric_prot_scores(degree_centrality, up_proteins.index)\n",
    "down_metric = metric_prot_scores(degree_centrality, down_proteins.index)\n",
    "total_metric = metric_prot_scores(degree_centrality, phospho_measure_values.index)\n",
    "print(\"metric means: up: {:.2e}, down: {:.2e}, total: {:.2e}\".format(np.mean(up_metric), \n",
    "                                                                      np.mean(down_metric), \n",
    "                                                                      np.mean(total_metric)))\n",
    "print(\"p-values for degree centrality (against full set): up: {:.2e}, down: {:.2e}\".format(\n",
    "    stats.mannwhitneyu(up_metric, total_metric)[1], stats.mannwhitneyu(down_metric, total_metric)[1]))"
   ]
  },
  {
   "cell_type": "markdown",
   "metadata": {},
   "source": [
    "### Subset scores"
   ]
  },
  {
   "cell_type": "code",
   "execution_count": 205,
   "metadata": {},
   "outputs": [],
   "source": [
    "def up_down_topological_analysis(up_proteins, down_proteins, topological_metric, random_iter):\n",
    "\n",
    "    up_value = topological_metric(up_proteins)\n",
    "    down_value = topological_metric(down_proteins)\n",
    "\n",
    "    print(\"Generating up-sized sets\")\n",
    "    up_control_metric_values = []\n",
    "    for i in range(random_iter):\n",
    "        random_selection = np.random.choice(list(ppi.nodes.keys()), len(up_proteins))\n",
    "        control_value = topological_metric(random_selection)\n",
    "        up_control_metric_values.append(control_value)\n",
    "        if not (i + 1) % 250:\n",
    "            print(\"Checked {} random sets\".format(i + 1))\n",
    "    up_control_average_metric = np.mean(up_control_metric_values)\n",
    "\n",
    "    print(\"Generating down-sized sets\")\n",
    "    down_control_metric_values = []\n",
    "    for i in range(random_iter):\n",
    "        random_selection = np.random.choice(list(ppi.nodes.keys()), len(down_proteins))\n",
    "        control_value = topological_metric(random_selection)\n",
    "        down_control_metric_values.append(control_value)\n",
    "        if not (i + 1) % 250:\n",
    "            print(\"Checked {} random sets\".format(i + 1))\n",
    "    down_control_average_metric = np.mean(down_control_metric_values)\n",
    "    \n",
    "    print(\"up metric v.s. expected: {:.2f}/{:.2f}\\ndown metric v.s. expected: {:.2f}/{:.2f}\".format(\n",
    "        up_value, up_control_average_metric, down_value, down_control_average_metric))\n",
    "\n",
    "    \n",
    "    plt.figure(figsize=(25, 10))\n",
    "    plt.subplot(1, 2, 1)\n",
    "    n, bins, patches = plt.hist(up_control_metric_values, density=True)\n",
    "    plt.axvline(np.mean(up_control_metric_values), color='k', linestyle='dashed', linewidth=1)\n",
    "    plt.axvline(up_value, color='r', linestyle='solid', linewidth=1)    \n",
    "#     loc = np.digitize(up_value, bins)\n",
    "#     patches[np.clip(loc,  a_min=0, a_max=len(patches) - 1)].set_fc('r')\n",
    "#     if loc != np.clip(loc, a_min=0, a_max=len(patches) - 1):\n",
    "#         print(\"Warning: Up value outside control histogram\")\n",
    "    plt.title(\"hist for up sized sets:\")\n",
    "\n",
    "    plt.subplot(1, 2, 2)\n",
    "    n, bins, patches= plt.hist(down_control_metric_values, density=True)\n",
    "    plt.axvline(np.mean(down_control_metric_values), color='k', linestyle='dashed', linewidth=1)\n",
    "    plt.axvline(down_value, color='r', linestyle='solid', linewidth=1)    \n",
    "#     loc = np.digitize(down_value, bins)\n",
    "#     patches[np.clip(loc,  a_min=0, a_max=len(patches) - 1)].set_fc('r')\n",
    "#     if loc != np.clip(loc, a_min=0, a_max=len(patches) - 1):\n",
    "#         print(\"Warning: Down value outside control histogram\")\n",
    "    plt.title(\"hist for down sized sets\")\n",
    "    \n",
    "    plt.show()\n",
    "    \n",
    "    # estimate CFG from the density kernel estimator:\n",
    "#     kde = gaussian_kde(up_control_metric_values)\n",
    "#     x = np.linspace(min(up_control_metric_values), max(up_control_metric_values), 50)\n",
    "#     cdf = tuple(ndtr(np.ravel(item - kde.dataset) / kde.factor).mean()\n",
    "#             for item in x)\n",
    "#     plt.plot(x, cdf)\n",
    "#     f = np.poly1d(Polynomial.fit(x, cdf, deg=5))\n",
    "#     plt.plot(x, f(x))\n",
    "#     plt.show()\n",
    "# #     print(\"double tailed p-value for up (?): {:.2e}\".format(min(f(up_value), 1 - f(up_value)) * 2))\n",
    "    \n",
    "#     # estimate CFG from the density kernel estimator:\n",
    "#     kde = gaussian_kde(down_control_metric_values)\n",
    "#     x = np.linspace(min(down_control_metric_values), max(down_control_metric_values), 50)\n",
    "#     cdf = tuple(ndtr(np.ravel(item - kde.dataset) / kde.factor).mean()\n",
    "#             for item in x)\n",
    "#     plt.plot(x, cdf)\n",
    "#     f = np.poly1d(Polynomial.fit(x, cdf, deg=5))\n",
    "#     plt.plot(x, f(x))\n",
    "#     plt.show()\n",
    "# #     print(\"double tailed p-value for down (?): {:.2e}\".format(min(f(down_value), 1 - f(down_value)) * 2))"
   ]
  },
  {
   "cell_type": "markdown",
   "metadata": {},
   "source": [
    "### Degree count"
   ]
  },
  {
   "cell_type": "code",
   "execution_count": 206,
   "metadata": {},
   "outputs": [],
   "source": [
    "phospho_measure = 'log2 fold change' # 'log2 fold change'\n",
    "phospho_measure_values = phospho_dataframe.loc[\n",
    "    phospho_dataframe['Gene name'].isin(common)].groupby('Gene name')[phospho_measure].mean()"
   ]
  },
  {
   "cell_type": "code",
   "execution_count": 208,
   "metadata": {},
   "outputs": [
    {
     "name": "stdout",
     "output_type": "stream",
     "text": [
      "overactivated proteins: 584, underactivated proteins: 367, rest: 0\n",
      "Generating up-sized sets\n",
      "Checked 250 random sets\n",
      "Checked 500 random sets\n",
      "Checked 750 random sets\n",
      "Checked 1000 random sets\n",
      "Generating down-sized sets\n",
      "Checked 250 random sets\n",
      "Checked 500 random sets\n",
      "Checked 750 random sets\n",
      "Checked 1000 random sets\n",
      "up metric v.s. expected: 3.48/2.87\n",
      "down metric v.s. expected: 3.17/2.90\n"
     ]
    },
    {
     "data": {
      "image/png": "[encoded data removed]",
      "text/plain": [
       "<Figure size 1800x720 with 2 Axes>"
      ]
     },
     "metadata": {
      "needs_background": "light"
     },
     "output_type": "display_data"
    },
    {
     "name": "stdout",
     "output_type": "stream",
     "text": [
      "overactivated proteins: 11, underactivated proteins: 35, rest: 905\n",
      "Generating up-sized sets\n",
      "Checked 250 random sets\n",
      "Checked 500 random sets\n",
      "Checked 750 random sets\n",
      "Checked 1000 random sets\n",
      "Generating down-sized sets\n",
      "Checked 250 random sets\n",
      "Checked 500 random sets\n",
      "Checked 750 random sets\n",
      "Checked 1000 random sets\n",
      "up metric v.s. expected: 3.73/2.99\n",
      "down metric v.s. expected: 3.83/2.96\n"
     ]
    },
    {
     "data": {
      "image/png": "[encoded data removed]",
      "text/plain": [
       "<Figure size 1800x720 with 2 Axes>"
      ]
     },
     "metadata": {
      "needs_background": "light"
     },
     "output_type": "display_data"
    },
    {
     "name": "stdout",
     "output_type": "stream",
     "text": [
      "overactivated proteins: 102, underactivated proteins: 108, rest: 741\n",
      "Generating up-sized sets\n",
      "Checked 250 random sets\n",
      "Checked 500 random sets\n",
      "Checked 750 random sets\n",
      "Checked 1000 random sets\n",
      "Generating down-sized sets\n",
      "Checked 250 random sets\n",
      "Checked 500 random sets\n",
      "Checked 750 random sets\n",
      "Checked 1000 random sets\n",
      "up metric v.s. expected: 3.73/2.92\n",
      "down metric v.s. expected: 3.96/2.96\n"
     ]
    },
    {
     "data": {
      "image/png": "[encoded data removed]",
      "text/plain": [
       "<Figure size 1800x720 with 2 Axes>"
      ]
     },
     "metadata": {
      "needs_background": "light"
     },
     "output_type": "display_data"
    }
   ],
   "source": [
    "def average_degree(vertices):\n",
    "    n_degrees = 0\n",
    "    for (u, v) in ppi.edges():\n",
    "        if u in vertices:\n",
    "            n_degrees += 1\n",
    "    return n_degrees / float(len(vertices))\n",
    "\n",
    "up_proteins, down_proteins = get_up_down_sets(phospho_measure_values, \n",
    "                                              significance_mode='value', significance_threshold=0)\n",
    "up_down_topological_analysis(up_proteins, down_proteins,\n",
    "                             topological_metric=average_degree, random_iter=1000)\n",
    "\n",
    "up_proteins, down_proteins = get_up_down_sets(phospho_measure_values, \n",
    "                                              significance_mode='std', significance_threshold=2)\n",
    "up_down_topological_analysis(up_proteins, down_proteins,\n",
    "                             topological_metric=average_degree, random_iter=1000)\n",
    "\n",
    "up_proteins, down_proteins = get_up_down_sets(phospho_measure_values, \n",
    "                                              significance_mode='std', significance_threshold=1)\n",
    "up_down_topological_analysis(up_proteins, down_proteins,\n",
    "                             topological_metric=average_degree, random_iter=1000)\n"
   ]
  },
  {
   "cell_type": "markdown",
   "metadata": {},
   "source": [
    "### Edge set count"
   ]
  },
  {
   "cell_type": "code",
   "execution_count": 209,
   "metadata": {},
   "outputs": [
    {
     "name": "stdout",
     "output_type": "stream",
     "text": [
      "overactivated proteins: 584, underactivated proteins: 367, rest: 0\n",
      "Generating up-sized sets\n",
      "Checked 250 random sets\n",
      "Checked 500 random sets\n",
      "Checked 750 random sets\n",
      "Checked 1000 random sets\n",
      "Generating down-sized sets\n",
      "Checked 250 random sets\n",
      "Checked 500 random sets\n",
      "Checked 750 random sets\n",
      "Checked 1000 random sets\n",
      "up metric v.s. expected: 3.48/2.86\n",
      "down metric v.s. expected: 3.17/2.91\n"
     ]
    },
    {
     "data": {
      "image/png": "[encoded data removed]",
      "text/plain": [
       "<Figure size 1800x720 with 2 Axes>"
      ]
     },
     "metadata": {
      "needs_background": "light"
     },
     "output_type": "display_data"
    },
    {
     "name": "stdout",
     "output_type": "stream",
     "text": [
      "overactivated proteins: 11, underactivated proteins: 35, rest: 905\n",
      "Generating up-sized sets\n",
      "Checked 250 random sets\n",
      "Checked 500 random sets\n",
      "Checked 750 random sets\n",
      "Checked 1000 random sets\n",
      "Generating down-sized sets\n",
      "Checked 250 random sets\n",
      "Checked 500 random sets\n",
      "Checked 750 random sets\n",
      "Checked 1000 random sets\n",
      "up metric v.s. expected: 3.73/3.00\n",
      "down metric v.s. expected: 3.83/2.95\n"
     ]
    },
    {
     "data": {
      "image/png": "[encoded data removed]",
      "text/plain": [
       "<Figure size 1800x720 with 2 Axes>"
      ]
     },
     "metadata": {
      "needs_background": "light"
     },
     "output_type": "display_data"
    },
    {
     "name": "stdout",
     "output_type": "stream",
     "text": [
      "overactivated proteins: 102, underactivated proteins: 108, rest: 741\n",
      "Generating up-sized sets\n",
      "Checked 250 random sets\n",
      "Checked 500 random sets\n",
      "Checked 750 random sets\n",
      "Checked 1000 random sets\n",
      "Generating down-sized sets\n",
      "Checked 250 random sets\n",
      "Checked 500 random sets\n",
      "Checked 750 random sets\n",
      "Checked 1000 random sets\n",
      "up metric v.s. expected: 3.73/2.94\n",
      "down metric v.s. expected: 3.96/3.00\n"
     ]
    },
    {
     "data": {
      "image/png": "[encoded data removed]",
      "text/plain": [
       "<Figure size 1800x720 with 2 Axes>"
      ]
     },
     "metadata": {
      "needs_background": "light"
     },
     "output_type": "display_data"
    }
   ],
   "source": [
    "def normalized_edge_set_size(vertices):\n",
    "    edges = set()\n",
    "    for (u, v) in ppi.edges():\n",
    "        if u in vertices and (v, u) not in edges:\n",
    "            edges.add((u, v))\n",
    "    return len(edges) / float(len(vertices))\n",
    "\n",
    "up_proteins, down_proteins = get_up_down_sets(phospho_measure_values, significance_mode='value', \n",
    "                                              significance_threshold=0)\n",
    "up_down_topological_analysis(up_proteins, down_proteins,\n",
    "                             topological_metric=normalized_edge_set_size, random_iter=1000)\n",
    "\n",
    "up_proteins, down_proteins = get_up_down_sets(phospho_measure_values, significance_mode='std', \n",
    "                                              significance_threshold=2)\n",
    "up_down_topological_analysis(up_proteins, down_proteins,\n",
    "                             topological_metric=normalized_edge_set_size, random_iter=1000)\n",
    "\n",
    "up_proteins, down_proteins = get_up_down_sets(phospho_measure_values, significance_mode='std', \n",
    "                                              significance_threshold=1)\n",
    "up_down_topological_analysis(up_proteins, down_proteins,\n",
    "                             topological_metric=normalized_edge_set_size, random_iter=1000)\n"
   ]
  },
  {
   "cell_type": "markdown",
   "metadata": {},
   "source": [
    "### Neighbor counts"
   ]
  },
  {
   "cell_type": "code",
   "execution_count": 211,
   "metadata": {},
   "outputs": [
    {
     "name": "stdout",
     "output_type": "stream",
     "text": [
      "overactivated proteins: 584, underactivated proteins: 367, rest: 0\n",
      "Generating up-sized sets\n",
      "Checked 250 random sets\n",
      "Checked 500 random sets\n",
      "Checked 750 random sets\n",
      "Checked 1000 random sets\n",
      "Generating down-sized sets\n",
      "Checked 250 random sets\n",
      "Checked 500 random sets\n",
      "Checked 750 random sets\n",
      "Checked 1000 random sets\n",
      "up metric v.s. expected: 2.54/2.21\n",
      "down metric v.s. expected: 2.57/2.42\n"
     ]
    },
    {
     "data": {
      "image/png": "[encoded data removed]",
      "text/plain": [
       "<Figure size 1800x720 with 2 Axes>"
      ]
     },
     "metadata": {
      "needs_background": "light"
     },
     "output_type": "display_data"
    },
    {
     "name": "stdout",
     "output_type": "stream",
     "text": [
      "overactivated proteins: 11, underactivated proteins: 35, rest: 905\n",
      "Generating up-sized sets\n",
      "Checked 250 random sets\n",
      "Checked 500 random sets\n",
      "Checked 750 random sets\n",
      "Checked 1000 random sets\n",
      "Generating down-sized sets\n",
      "Checked 250 random sets\n",
      "Checked 500 random sets\n",
      "Checked 750 random sets\n",
      "Checked 1000 random sets\n",
      "up metric v.s. expected: 3.73/2.99\n",
      "down metric v.s. expected: 3.74/2.91\n"
     ]
    },
    {
     "data": {
      "image/png": "[encoded data removed]",
      "text/plain": [
       "<Figure size 1800x720 with 2 Axes>"
      ]
     },
     "metadata": {
      "needs_background": "light"
     },
     "output_type": "display_data"
    },
    {
     "name": "stdout",
     "output_type": "stream",
     "text": [
      "overactivated proteins: 102, underactivated proteins: 108, rest: 741\n",
      "Generating up-sized sets\n",
      "Checked 250 random sets\n",
      "Checked 500 random sets\n",
      "Checked 750 random sets\n",
      "Checked 1000 random sets\n",
      "Generating down-sized sets\n",
      "Checked 250 random sets\n",
      "Checked 500 random sets\n",
      "Checked 750 random sets\n",
      "Checked 1000 random sets\n",
      "up metric v.s. expected: 3.52/2.81\n",
      "down metric v.s. expected: 3.60/2.76\n"
     ]
    },
    {
     "data": {
      "image/png": "[encoded data removed]",
      "text/plain": [
       "<Figure size 1800x720 with 2 Axes>"
      ]
     },
     "metadata": {
      "needs_background": "light"
     },
     "output_type": "display_data"
    }
   ],
   "source": [
    "def normalized_neighbor_set_size(vertices):\n",
    "    neighbors = set()\n",
    "    for (u, v) in ppi.edges():\n",
    "        if u in vertices:\n",
    "            neighbors.add(v)\n",
    "    return len(neighbors) / float(len(vertices))\n",
    "\n",
    "up_proteins, down_proteins = get_up_down_sets(phospho_measure_values,\n",
    "                                              significance_mode='value', significance_threshold=0)\n",
    "up_down_topological_analysis(up_proteins, down_proteins,\n",
    "                             topological_metric=normalized_neighbor_set_size, random_iter=1000)\n",
    "\n",
    "up_proteins, down_proteins = get_up_down_sets(phospho_measure_values,\n",
    "                                              significance_mode='std', significance_threshold=2)\n",
    "up_down_topological_analysis(up_proteins, down_proteins,\n",
    "                             topological_metric=normalized_neighbor_set_size, random_iter=1000)\n",
    "\n",
    "up_proteins, down_proteins = get_up_down_sets(phospho_measure_values,\n",
    "                                              significance_mode='std', significance_threshold=1)\n",
    "up_down_topological_analysis(up_proteins, down_proteins,\n",
    "                             topological_metric=normalized_neighbor_set_size, random_iter=1000)\n",
    "\n"
   ]
  },
  {
   "cell_type": "markdown",
   "metadata": {},
   "source": [
    "### edge pairs analysis"
   ]
  },
  {
   "cell_type": "code",
   "execution_count": 212,
   "metadata": {},
   "outputs": [
    {
     "name": "stdout",
     "output_type": "stream",
     "text": [
      "overactivated proteins: 584, underactivated proteins: 367, rest: 0\n"
     ]
    }
   ],
   "source": [
    "up_proteins, down_proteins = get_up_down_sets(phospho_measure_values, \n",
    "                                              significance_mode='value', significance_threshold=0)\n",
    "\n",
    "def sampled_pair_dist_analysis(data, up_proteins, down_proteins, random_iter, no_path_penalty=1000):\n",
    "    n_up_pairs = len(up_proteins) * (len(up_proteins) - 1) / 2\n",
    "    n_down_pairs = len(down_proteins) * (len(down_proteins) - 1) / 2\n",
    "#     p_up_vs_down = n_up_pairs / float(n_up_pairs + n_down_pairs)\n",
    "#     p_up = n_up_pairs / float(len(data) * (len(data) - 1) / 2)\n",
    "#     p_down = n_down_pairs / float(len(data) * (len(data) - 1) / 2)\n",
    "    \n",
    "    up_dists = []\n",
    "    down_dists = []\n",
    "    opposite_dists = []\n",
    "    control_dists = []\n",
    "\n",
    "    for i in range(random_iter):\n",
    "#         sign_set = up_proteins if random.random() < p_up_vs_down else down_proteins\n",
    "        up_pair = np.random.choice(up_proteins.index, 2)\n",
    "        down_pair = np.random.choice(down_proteins.index, 2)\n",
    "        opposite_pair = np.random.choice(up_proteins.index, 1)[0], np.random.choice(down_proteins.index, 1)[0]\n",
    "        control_pair = np.random.choice(data.index, 2)\n",
    "        for p, l in zip([up_pair, down_pair, opposite_pair, control_pair], \n",
    "                        [up_dists, down_dists, opposite_dists, control_dists]):\n",
    "            try:\n",
    "                dist = len(algorithms.shortest_path(ppi, p[0], p[1])) - 1\n",
    "            except networkx.NetworkXNoPath as e:\n",
    "                dist = no_path_penalty\n",
    "            l.append(dist)\n",
    "        if not (i + 1) % 100000:\n",
    "            print(\"Done {} iterations\".format(i + 1))\n",
    "    \n",
    "    print(\"mean distances: up nodes: {:.2f}, down nodes: {:.2f}, opposite nodes: {:.2f}, control: {:.2f}\".format(\n",
    "        np.mean(up_dists), np.mean(down_dists), np.mean(opposite_dists), np.mean(control_dists)))\n",
    "    print(\"p-values: up: {:.2e}, down: {:.2e}, opposite: {:.2e}\".format(\n",
    "        stats.mannwhitneyu(up_dists, control_dists)[1], stats.mannwhitneyu(down_dists, control_dists)[1],\n",
    "        stats.mannwhitneyu(opposite_dists, control_dists)[1]))\n",
    "    \n",
    "#     plt.figure(figsize=(30, 10))\n",
    "#     plt.subplot(1, 4, 1)\n",
    "#     plt.hist(up_dists, density=True)\n",
    "#     plt.title(\"up dists\")\n",
    "#     plt.subplot(1, 4, 2)\n",
    "#     plt.hist(down_dists, density=True)\n",
    "#     plt.title(\"down dists\")\n",
    "#     plt.subplot(1, 4, 3)\n",
    "#     plt.hist(opposite_dists, density=True)\n",
    "#     plt.title(\"opposite dists\")\n",
    "#     plt.subplot(1, 4, 4)\n",
    "#     plt.hist(control_dists, density=True)\n",
    "#     plt.title(\"control dists\")\n",
    "#     plt.show()\n",
    "    \n",
    "    plt.hist([up_dists, down_dists, opposite_dists, control_dists], density=True)\n",
    "    plt.legend(['up', 'down', 'opposites', 'control'])\n",
    "\n",
    "def full_pair_dist_analysis(data, up_proteins, down_proteins, random_iter, no_path_penalty=1000):\n",
    "    n_up_pairs = len(up_proteins) * (len(up_proteins) - 1) / 2\n",
    "    n_down_pairs = len(down_proteins) * (len(down_proteins) - 1) / 2\n",
    "#     p_up_vs_down = n_up_pairs / float(n_up_pairs + n_down_pairs)\n",
    "#     p_up = n_up_pairs / float(len(data) * (len(data) - 1) / 2)\n",
    "#     p_down = n_down_pairs / float(len(data) * (len(data) - 1) / 2)\n",
    "    \n",
    "    up_dists = []\n",
    "    down_dists = []\n",
    "    opposite_dists = []\n",
    "    control_dists = []\n",
    "\n",
    "    pair_iters = [itertools.combinations(up_proteins.index, 2), itertools.combinations(down_proteins.index, 2),\n",
    "                  itertools.product(up_proteins.index, down_proteins.index), itertools.combinations(data.index, 2)]\n",
    "    for pair_iter, val_list in zip(pair_iters, [up_dists, down_dists, opposite_dists, control_dists]):\n",
    "        for pair in pair_iter:\n",
    "            try:\n",
    "                dist = len(algorithms.shortest_path(ppi, pair[0], pair[1])) - 1\n",
    "            except networkx.NetworkXNoPath as e:\n",
    "                dist = no_path_penalty\n",
    "            val_list.append(dist)\n",
    "    \n",
    "    print(\"mean distances: up nodes: {:.2f}, down nodes: {:.2f}, opposite nodes: {:.2f}, control: {:.2f}\".format(\n",
    "        np.mean(up_dists), np.mean(down_dists), np.mean(opposite_dists), np.mean(control_dists)))\n",
    "    print(\"p-values: up: {:.2e}, down: {:.2e}, opposite: {:.2e}\".format(\n",
    "        stats.mannwhitneyu(up_dists, control_dists)[1], stats.mannwhitneyu(down_dists, control_dists)[1],\n",
    "        stats.mannwhitneyu(opposite_dists, control_dists)[1]))\n",
    "    \n",
    "    plt.hist([up_dists, down_dists, opposite_dists, control_dists], density=True)\n",
    "    plt.legend(['up', 'down', 'opposites', 'control'])"
   ]
  },
  {
   "cell_type": "code",
   "execution_count": 213,
   "metadata": {},
   "outputs": [
    {
     "name": "stdout",
     "output_type": "stream",
     "text": [
      "overactivated proteins: 584, underactivated proteins: 367, rest: 0\n",
      "mean distances: up nodes: 4.45, down nodes: 4.51, opposite nodes: 4.48, control: 4.47\n",
      "p-values: up: 1.21e-14, down: 1.37e-14, opposite: 2.50e-03\n"
     ]
    },
    {
     "data": {
      "image/png": "[encoded data removed]",
      "text/plain": [
       "<Figure size 432x288 with 1 Axes>"
      ]
     },
     "metadata": {
      "needs_background": "light"
     },
     "output_type": "display_data"
    }
   ],
   "source": [
    "up_proteins, down_proteins = get_up_down_sets(phospho_measure_values,\n",
    "                                              significance_mode='value', significance_threshold=0)\n",
    "# sample_pair_dist_analysis(phospho_measure_values, up_proteins, down_proteins, random_iter=100000, \n",
    "#                           no_path_penalty=10)\n",
    "full_pair_dist_analysis(phospho_measure_values, up_proteins, down_proteins, random_iter=100000, no_path_penalty=10)"
   ]
  },
  {
   "cell_type": "code",
   "execution_count": 214,
   "metadata": {},
   "outputs": [
    {
     "name": "stdout",
     "output_type": "stream",
     "text": [
      "overactivated proteins: 11, underactivated proteins: 35, rest: 905\n",
      "mean distances: up nodes: 5.16, down nodes: 4.03, opposite nodes: 4.55, control: 4.47\n",
      "p-values: up: 5.31e-07, down: 9.35e-16, opposite: 1.17e-03\n"
     ]
    },
    {
     "data": {
      "image/png": "[encoded data removed]",
      "text/plain": [
       "<Figure size 432x288 with 1 Axes>"
      ]
     },
     "metadata": {
      "needs_background": "light"
     },
     "output_type": "display_data"
    }
   ],
   "source": [
    "up_proteins, down_proteins = get_up_down_sets(phospho_measure_values,\n",
    "                                              significance_mode='std', significance_threshold=2)\n",
    "# sample_pair_dist_analysis(phospho_measure_values, up_proteins, down_proteins, random_iter=100000, \n",
    "#                           no_path_penalty=10)\n",
    "full_pair_dist_analysis(phospho_measure_values, up_proteins, down_proteins, random_iter=100000, no_path_penalty=10)"
   ]
  },
  {
   "cell_type": "code",
   "execution_count": 215,
   "metadata": {},
   "outputs": [
    {
     "name": "stdout",
     "output_type": "stream",
     "text": [
      "overactivated proteins: 102, underactivated proteins: 108, rest: 741\n",
      "mean distances: up nodes: 4.43, down nodes: 4.44, opposite nodes: 4.45, control: 4.47\n",
      "p-values: up: 1.14e-01, down: 1.45e-03, opposite: 4.79e-02\n"
     ]
    },
    {
     "data": {
      "image/png": "[encoded data removed]",
      "text/plain": [
       "<Figure size 432x288 with 1 Axes>"
      ]
     },
     "metadata": {
      "needs_background": "light"
     },
     "output_type": "display_data"
    }
   ],
   "source": [
    "up_proteins, down_proteins = get_up_down_sets(phospho_measure_values,\n",
    "                                              significance_mode='std', significance_threshold=1)\n",
    "# sample_pair_dist_analysis(phospho_measure_values, up_proteins, down_proteins, random_iter=100000, \n",
    "#                           no_path_penalty=10)\n",
    "full_pair_dist_analysis(phospho_measure_values, up_proteins, down_proteins, random_iter=100000, no_path_penalty=10)"
   ]
  },
  {
   "cell_type": "code",
   "execution_count": null,
   "metadata": {},
   "outputs": [],
   "source": []
  }
 ],
 "metadata": {
  "kernelspec": {
   "display_name": "Python 3",
   "language": "python",
   "name": "python3"
  },
  "language_info": {
   "codemirror_mode": {
    "name": "ipython",
    "version": 3
   },
   "file_extension": ".py",
   "mimetype": "text/x-python",
   "name": "python",
   "nbconvert_exporter": "python",
   "pygments_lexer": "ipython3",
   "version": "3.7.3"
  }
 },
 "nbformat": 4,
 "nbformat_minor": 4
}
