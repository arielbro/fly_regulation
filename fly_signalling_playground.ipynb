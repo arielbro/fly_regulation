{
 "cells": [
  {
   "cell_type": "code",
   "execution_count": 14,
   "metadata": {},
   "outputs": [],
   "source": [
    "import diffupy\n",
    "import networkx\n",
    "import pandas as pd\n",
    "from matplotlib import pyplot as plt\n",
    "import matplotlib\n",
    "import scipy\n",
    "from scipy import stats\n",
    "import random\n",
    "import numpy as np\n",
    "from sklearn import neighbors\n",
    "from scipy.stats import norm, gaussian_kde\n",
    "from networkx import algorithms\n",
    "from scipy.special import ndtr\n",
    "from numpy.polynomial import Polynomial\n",
    "import itertools\n",
    "\n",
    "# temp fix for dark preview pane problem\n",
    "from matplotlib import pyplot\n",
    "import math\n",
    "\n",
    "pyplot.style.use('dark_background')"
   ]
  },
  {
   "cell_type": "markdown",
   "metadata": {},
   "source": [
    "## Load network and phospho data"
   ]
  },
  {
   "cell_type": "code",
   "execution_count": 15,
   "metadata": {},
   "outputs": [],
   "source": [
    "network_dataframe = pd.read_csv(\"data/BIOGRID-PUBLICATION-13022-4.1.190.tab3.txt\", sep='\\t')"
   ]
  },
  {
   "cell_type": "code",
   "execution_count": 16,
   "metadata": {},
   "outputs": [],
   "source": [
    "# network_dataframe.columns"
   ]
  },
  {
   "cell_type": "code",
   "execution_count": 17,
   "metadata": {},
   "outputs": [
    {
     "ename": "EmptyDataError",
     "evalue": "No columns to parse from file",
     "output_type": "error",
     "traceback": [
      "\u001B[1;31m---------------------------------------------------------------------------\u001B[0m",
      "\u001B[1;31mEmptyDataError\u001B[0m                            Traceback (most recent call last)",
      "\u001B[1;32m<ipython-input-17-4dfb82f24e77>\u001B[0m in \u001B[0;36m<module>\u001B[1;34m\u001B[0m\n\u001B[1;32m----> 1\u001B[1;33m \u001B[0mphospho_dataframe\u001B[0m \u001B[1;33m=\u001B[0m \u001B[0mpd\u001B[0m\u001B[1;33m.\u001B[0m\u001B[0mread_csv\u001B[0m\u001B[1;33m(\u001B[0m\u001B[1;34m\"data/final_ascored_pep_tgr09076_09614.csv\"\u001B[0m\u001B[1;33m)\u001B[0m\u001B[1;33m\u001B[0m\u001B[1;33m\u001B[0m\u001B[0m\n\u001B[0m\u001B[0;32m      2\u001B[0m \u001B[1;33m\u001B[0m\u001B[0m\n",
      "\u001B[1;32mc:\\users\\ariel\\pycharmprojects\\fly_regulation\\venv\\lib\\site-packages\\pandas\\io\\parsers.py\u001B[0m in \u001B[0;36mread_csv\u001B[1;34m(filepath_or_buffer, sep, delimiter, header, names, index_col, usecols, squeeze, prefix, mangle_dupe_cols, dtype, engine, converters, true_values, false_values, skipinitialspace, skiprows, skipfooter, nrows, na_values, keep_default_na, na_filter, verbose, skip_blank_lines, parse_dates, infer_datetime_format, keep_date_col, date_parser, dayfirst, cache_dates, iterator, chunksize, compression, thousands, decimal, lineterminator, quotechar, quoting, doublequote, escapechar, comment, encoding, dialect, error_bad_lines, warn_bad_lines, delim_whitespace, low_memory, memory_map, float_precision)\u001B[0m\n\u001B[0;32m    686\u001B[0m     )\n\u001B[0;32m    687\u001B[0m \u001B[1;33m\u001B[0m\u001B[0m\n\u001B[1;32m--> 688\u001B[1;33m     \u001B[1;32mreturn\u001B[0m \u001B[0m_read\u001B[0m\u001B[1;33m(\u001B[0m\u001B[0mfilepath_or_buffer\u001B[0m\u001B[1;33m,\u001B[0m \u001B[0mkwds\u001B[0m\u001B[1;33m)\u001B[0m\u001B[1;33m\u001B[0m\u001B[1;33m\u001B[0m\u001B[0m\n\u001B[0m\u001B[0;32m    689\u001B[0m \u001B[1;33m\u001B[0m\u001B[0m\n\u001B[0;32m    690\u001B[0m \u001B[1;33m\u001B[0m\u001B[0m\n",
      "\u001B[1;32mc:\\users\\ariel\\pycharmprojects\\fly_regulation\\venv\\lib\\site-packages\\pandas\\io\\parsers.py\u001B[0m in \u001B[0;36m_read\u001B[1;34m(filepath_or_buffer, kwds)\u001B[0m\n\u001B[0;32m    452\u001B[0m \u001B[1;33m\u001B[0m\u001B[0m\n\u001B[0;32m    453\u001B[0m     \u001B[1;31m# Create the parser.\u001B[0m\u001B[1;33m\u001B[0m\u001B[1;33m\u001B[0m\u001B[1;33m\u001B[0m\u001B[0m\n\u001B[1;32m--> 454\u001B[1;33m     \u001B[0mparser\u001B[0m \u001B[1;33m=\u001B[0m \u001B[0mTextFileReader\u001B[0m\u001B[1;33m(\u001B[0m\u001B[0mfp_or_buf\u001B[0m\u001B[1;33m,\u001B[0m \u001B[1;33m**\u001B[0m\u001B[0mkwds\u001B[0m\u001B[1;33m)\u001B[0m\u001B[1;33m\u001B[0m\u001B[1;33m\u001B[0m\u001B[0m\n\u001B[0m\u001B[0;32m    455\u001B[0m \u001B[1;33m\u001B[0m\u001B[0m\n\u001B[0;32m    456\u001B[0m     \u001B[1;32mif\u001B[0m \u001B[0mchunksize\u001B[0m \u001B[1;32mor\u001B[0m \u001B[0miterator\u001B[0m\u001B[1;33m:\u001B[0m\u001B[1;33m\u001B[0m\u001B[1;33m\u001B[0m\u001B[0m\n",
      "\u001B[1;32mc:\\users\\ariel\\pycharmprojects\\fly_regulation\\venv\\lib\\site-packages\\pandas\\io\\parsers.py\u001B[0m in \u001B[0;36m__init__\u001B[1;34m(self, f, engine, **kwds)\u001B[0m\n\u001B[0;32m    946\u001B[0m             \u001B[0mself\u001B[0m\u001B[1;33m.\u001B[0m\u001B[0moptions\u001B[0m\u001B[1;33m[\u001B[0m\u001B[1;34m\"has_index_names\"\u001B[0m\u001B[1;33m]\u001B[0m \u001B[1;33m=\u001B[0m \u001B[0mkwds\u001B[0m\u001B[1;33m[\u001B[0m\u001B[1;34m\"has_index_names\"\u001B[0m\u001B[1;33m]\u001B[0m\u001B[1;33m\u001B[0m\u001B[1;33m\u001B[0m\u001B[0m\n\u001B[0;32m    947\u001B[0m \u001B[1;33m\u001B[0m\u001B[0m\n\u001B[1;32m--> 948\u001B[1;33m         \u001B[0mself\u001B[0m\u001B[1;33m.\u001B[0m\u001B[0m_make_engine\u001B[0m\u001B[1;33m(\u001B[0m\u001B[0mself\u001B[0m\u001B[1;33m.\u001B[0m\u001B[0mengine\u001B[0m\u001B[1;33m)\u001B[0m\u001B[1;33m\u001B[0m\u001B[1;33m\u001B[0m\u001B[0m\n\u001B[0m\u001B[0;32m    949\u001B[0m \u001B[1;33m\u001B[0m\u001B[0m\n\u001B[0;32m    950\u001B[0m     \u001B[1;32mdef\u001B[0m \u001B[0mclose\u001B[0m\u001B[1;33m(\u001B[0m\u001B[0mself\u001B[0m\u001B[1;33m)\u001B[0m\u001B[1;33m:\u001B[0m\u001B[1;33m\u001B[0m\u001B[1;33m\u001B[0m\u001B[0m\n",
      "\u001B[1;32mc:\\users\\ariel\\pycharmprojects\\fly_regulation\\venv\\lib\\site-packages\\pandas\\io\\parsers.py\u001B[0m in \u001B[0;36m_make_engine\u001B[1;34m(self, engine)\u001B[0m\n\u001B[0;32m   1178\u001B[0m     \u001B[1;32mdef\u001B[0m \u001B[0m_make_engine\u001B[0m\u001B[1;33m(\u001B[0m\u001B[0mself\u001B[0m\u001B[1;33m,\u001B[0m \u001B[0mengine\u001B[0m\u001B[1;33m=\u001B[0m\u001B[1;34m\"c\"\u001B[0m\u001B[1;33m)\u001B[0m\u001B[1;33m:\u001B[0m\u001B[1;33m\u001B[0m\u001B[1;33m\u001B[0m\u001B[0m\n\u001B[0;32m   1179\u001B[0m         \u001B[1;32mif\u001B[0m \u001B[0mengine\u001B[0m \u001B[1;33m==\u001B[0m \u001B[1;34m\"c\"\u001B[0m\u001B[1;33m:\u001B[0m\u001B[1;33m\u001B[0m\u001B[1;33m\u001B[0m\u001B[0m\n\u001B[1;32m-> 1180\u001B[1;33m             \u001B[0mself\u001B[0m\u001B[1;33m.\u001B[0m\u001B[0m_engine\u001B[0m \u001B[1;33m=\u001B[0m \u001B[0mCParserWrapper\u001B[0m\u001B[1;33m(\u001B[0m\u001B[0mself\u001B[0m\u001B[1;33m.\u001B[0m\u001B[0mf\u001B[0m\u001B[1;33m,\u001B[0m \u001B[1;33m**\u001B[0m\u001B[0mself\u001B[0m\u001B[1;33m.\u001B[0m\u001B[0moptions\u001B[0m\u001B[1;33m)\u001B[0m\u001B[1;33m\u001B[0m\u001B[1;33m\u001B[0m\u001B[0m\n\u001B[0m\u001B[0;32m   1181\u001B[0m         \u001B[1;32melse\u001B[0m\u001B[1;33m:\u001B[0m\u001B[1;33m\u001B[0m\u001B[1;33m\u001B[0m\u001B[0m\n\u001B[0;32m   1182\u001B[0m             \u001B[1;32mif\u001B[0m \u001B[0mengine\u001B[0m \u001B[1;33m==\u001B[0m \u001B[1;34m\"python\"\u001B[0m\u001B[1;33m:\u001B[0m\u001B[1;33m\u001B[0m\u001B[1;33m\u001B[0m\u001B[0m\n",
      "\u001B[1;32mc:\\users\\ariel\\pycharmprojects\\fly_regulation\\venv\\lib\\site-packages\\pandas\\io\\parsers.py\u001B[0m in \u001B[0;36m__init__\u001B[1;34m(self, src, **kwds)\u001B[0m\n\u001B[0;32m   2008\u001B[0m         \u001B[0mkwds\u001B[0m\u001B[1;33m[\u001B[0m\u001B[1;34m\"usecols\"\u001B[0m\u001B[1;33m]\u001B[0m \u001B[1;33m=\u001B[0m \u001B[0mself\u001B[0m\u001B[1;33m.\u001B[0m\u001B[0musecols\u001B[0m\u001B[1;33m\u001B[0m\u001B[1;33m\u001B[0m\u001B[0m\n\u001B[0;32m   2009\u001B[0m \u001B[1;33m\u001B[0m\u001B[0m\n\u001B[1;32m-> 2010\u001B[1;33m         \u001B[0mself\u001B[0m\u001B[1;33m.\u001B[0m\u001B[0m_reader\u001B[0m \u001B[1;33m=\u001B[0m \u001B[0mparsers\u001B[0m\u001B[1;33m.\u001B[0m\u001B[0mTextReader\u001B[0m\u001B[1;33m(\u001B[0m\u001B[0msrc\u001B[0m\u001B[1;33m,\u001B[0m \u001B[1;33m**\u001B[0m\u001B[0mkwds\u001B[0m\u001B[1;33m)\u001B[0m\u001B[1;33m\u001B[0m\u001B[1;33m\u001B[0m\u001B[0m\n\u001B[0m\u001B[0;32m   2011\u001B[0m         \u001B[0mself\u001B[0m\u001B[1;33m.\u001B[0m\u001B[0munnamed_cols\u001B[0m \u001B[1;33m=\u001B[0m \u001B[0mself\u001B[0m\u001B[1;33m.\u001B[0m\u001B[0m_reader\u001B[0m\u001B[1;33m.\u001B[0m\u001B[0munnamed_cols\u001B[0m\u001B[1;33m\u001B[0m\u001B[1;33m\u001B[0m\u001B[0m\n\u001B[0;32m   2012\u001B[0m \u001B[1;33m\u001B[0m\u001B[0m\n",
      "\u001B[1;32mpandas\\_libs\\parsers.pyx\u001B[0m in \u001B[0;36mpandas._libs.parsers.TextReader.__cinit__\u001B[1;34m()\u001B[0m\n",
      "\u001B[1;31mEmptyDataError\u001B[0m: No columns to parse from file"
     ]
    }
   ],
   "source": [
    "phospho_dataframe = pd.read_csv(\"data/final_ascored_pep_tgr09076_09614.csv\")"
   ]
  },
  {
   "cell_type": "code",
   "execution_count": null,
   "metadata": {},
   "outputs": [],
   "source": [
    "# phospho_dataframe"
   ]
  },
  {
   "cell_type": "code",
   "execution_count": 18,
   "metadata": {},
   "outputs": [
    {
     "ename": "NameError",
     "evalue": "name 'phospho_dataframe' is not defined",
     "output_type": "error",
     "traceback": [
      "\u001B[1;31m---------------------------------------------------------------------------\u001B[0m",
      "\u001B[1;31mNameError\u001B[0m                                 Traceback (most recent call last)",
      "\u001B[1;32m<ipython-input-18-dca6e98f7fe3>\u001B[0m in \u001B[0;36m<module>\u001B[1;34m\u001B[0m\n\u001B[1;32m----> 1\u001B[1;33m \u001B[0mphospho_names\u001B[0m \u001B[1;33m=\u001B[0m \u001B[0mset\u001B[0m\u001B[1;33m(\u001B[0m\u001B[0mphospho_dataframe\u001B[0m\u001B[1;33m[\u001B[0m\u001B[1;34m'Gene name'\u001B[0m\u001B[1;33m]\u001B[0m\u001B[1;33m)\u001B[0m\u001B[1;33m\u001B[0m\u001B[1;33m\u001B[0m\u001B[0m\n\u001B[0m\u001B[0;32m      2\u001B[0m \u001B[0mnetwork_names\u001B[0m \u001B[1;33m=\u001B[0m \u001B[0mset\u001B[0m\u001B[1;33m(\u001B[0m\u001B[0mnetwork_dataframe\u001B[0m\u001B[1;33m[\u001B[0m\u001B[1;34m'Official Symbol Interactor A'\u001B[0m\u001B[1;33m]\u001B[0m\u001B[1;33m)\u001B[0m \u001B[1;33m|\u001B[0m \u001B[0mset\u001B[0m\u001B[1;33m(\u001B[0m\u001B[0mnetwork_dataframe\u001B[0m\u001B[1;33m[\u001B[0m\u001B[1;34m'Official Symbol Interactor B'\u001B[0m\u001B[1;33m]\u001B[0m\u001B[1;33m)\u001B[0m\u001B[1;33m\u001B[0m\u001B[1;33m\u001B[0m\u001B[0m\n\u001B[0;32m      3\u001B[0m \u001B[0mcommon\u001B[0m \u001B[1;33m=\u001B[0m \u001B[0mphospho_names\u001B[0m \u001B[1;33m&\u001B[0m \u001B[0mnetwork_names\u001B[0m\u001B[1;33m\u001B[0m\u001B[1;33m\u001B[0m\u001B[0m\n\u001B[0;32m      4\u001B[0m \u001B[1;33m\u001B[0m\u001B[0m\n\u001B[0;32m      5\u001B[0m print(\"Common gene names: {}, out of {} in phospho data and {} in network\".format(len(common), len(phospho_names), \n",
      "\u001B[1;31mNameError\u001B[0m: name 'phospho_dataframe' is not defined"
     ]
    }
   ],
   "source": [
    "phospho_names = set(phospho_dataframe['Gene name'])\n",
    "network_names = set(network_dataframe['Official Symbol Interactor A']) | set(network_dataframe['Official Symbol Interactor B']) \n",
    "common = phospho_names & network_names\n",
    "\n",
    "print(\"Common gene names: {}, out of {} in phospho data and {} in network\".format(len(common), len(phospho_names), \n",
    "                                                                                  len(network_names)))"
   ]
  },
  {
   "cell_type": "code",
   "execution_count": 12,
   "metadata": {},
   "outputs": [],
   "source": [
    "network_dataframe = network_dataframe[['Official Symbol Interactor A', 'Official Symbol Interactor B']]"
   ]
  },
  {
   "cell_type": "code",
   "execution_count": 13,
   "metadata": {},
   "outputs": [],
   "source": [
    "ppi = networkx.from_pandas_edgelist(network_dataframe, 'Official Symbol Interactor A',  \n",
    "                                    'Official Symbol Interactor B').to_undirected()"
   ]
  },
  {
   "cell_type": "markdown",
   "source": [
    "## Network and phospho data properties\n"
   ],
   "metadata": {
    "collapsed": false,
    "pycharm": {
     "name": "#%% md\n"
    }
   }
  },
  {
   "cell_type": "code",
   "execution_count": null,
   "outputs": [],
   "source": [
    "d = dict(ppi.degree)\n",
    "networkx.draw(ppi, nodelist=d.keys(),\n",
    "              node_size=[v * 0.01 for v in d.values()])\n",
    "\n",
    "components = list(networkx.connected_components(ppi))\n",
    "print((\"{} connected components in the network.\\nbiggest one: \" +\n",
    "      \"{:.2f} of vertices\").format(len(components),\n",
    "        len(components[0]) / float(len(ppi.nodes))))\n",
    "\n",
    "print(\"Restricting to biggest component\")\n",
    "ppi = ppi.subgraph(components[0]).copy()\n",
    "common = {u for u in common if ppi.has_node(u)}"
   ],
   "metadata": {
    "collapsed": false,
    "pycharm": {
     "name": "#%%\n"
    }
   }
  },
  {
   "cell_type": "code",
   "execution_count": null,
   "outputs": [],
   "source": [
    "phospho_measure = 'log2 fold change' # 'log2 fold change'\n",
    "phospho_measure_values = phospho_dataframe.groupby('Gene name')[phospho_measure].mean()\n",
    "\n",
    "phospho_dataframe.groupby('Gene name')[phospho_measure].count().hist(bins=range(20), density=True)\n",
    "plt.title(\"peptides per gene histogram\")\n",
    "plt.show()\n",
    "\n",
    "phospho_dataframe.groupby('Gene name')['log2 fold change'].mean().hist(density=True, bins=30)\n",
    "plt.title(\"fold change histogram\")\n",
    "plt.show()\n",
    "\n",
    "phospho_dataframe.groupby('Gene name')['1-prob'].mean().hist(density=True, bins=30)\n",
    "plt.title(\"p-value histogram\")\n",
    "plt.show()"
   ],
   "metadata": {
    "collapsed": false,
    "pycharm": {
     "name": "#%%\n"
    }
   }
  },
  {
   "cell_type": "code",
   "execution_count": null,
   "metadata": {},
   "outputs": [],
   "source": [
    "networkx.set_node_attributes(ppi, dict(phospho_measure_values), phospho_measure)"
   ]
  },
  {
   "cell_type": "markdown",
   "metadata": {},
   "source": [
    "## Test centrality v.s. fold change"
   ]
  },
  {
   "cell_type": "code",
   "execution_count": 12,
   "metadata": {},
   "outputs": [],
   "source": [
    "# closeness_centrality = networkx.closeness_centrality(ppi)\n",
    "closeness_centrality = {u: networkx.closeness_centrality(ppi, u)\n",
    "                        for u in common}\n",
    "betweenness_centrality = networkx.betweenness_centrality(ppi)\n",
    "degree_centrality = networkx.degree_centrality(ppi)"
   ]
  },
  {
   "cell_type": "code",
   "execution_count": 30,
   "metadata": {},
   "outputs": [
    {
     "name": "stdout",
     "output_type": "stream",
     "text": [
      "Closeness v.s. betweeness centrality\n",
      "SpearmanrResult(correlation=0.8228733731653289, pvalue=1.6708651115605153e-231)\n",
      "Closeness v.s. degree centrality\n",
      "SpearmanrResult(correlation=0.867897000531536, pvalue=4.6351850549306e-286)\n",
      "Degree v.s. betweeness centrality\n",
      "SpearmanrResult(correlation=0.9505729155175738, pvalue=0.0)\n"
     ]
    }
   ],
   "source": [
    "print(\"Closeness v.s. betweeness centrality\")\n",
    "x, y = zip(*[(closeness_centrality[gene_name], betweenness_centrality[gene_name]) for gene_name in common])\n",
    "print(scipy.stats.spearmanr(x, y, nan_policy='omit'))\n",
    "\n",
    "print(\"Closeness v.s. degree centrality\")\n",
    "x, y = zip(*[(closeness_centrality[gene_name], degree_centrality[gene_name]) for gene_name in common])\n",
    "print(scipy.stats.spearmanr(x, y, nan_policy='omit'))\n",
    "\n",
    "print(\"Degree v.s. betweeness centrality\")\n",
    "x, y = zip(*[(degree_centrality[gene_name], betweenness_centrality[gene_name]) for gene_name in common])\n",
    "print(scipy.stats.spearmanr(x, y, nan_policy='omit'))\n"
   ]
  },
  {
   "cell_type": "code",
   "execution_count": 39,
   "metadata": {},
   "outputs": [],
   "source": [
    "phospho_measure = 'log2 fold change' # 'log2 fold change'\n",
    "phospho_measure_values = phospho_dataframe.groupby('Gene name')[phospho_measure].mean()"
   ]
  },
  {
   "cell_type": "code",
   "execution_count": 41,
   "metadata": {},
   "outputs": [
    {
     "name": "stdout",
     "output_type": "stream",
     "text": [
      "fold change v.s. closeness\n"
     ]
    },
    {
     "data": {
      "text/plain": "SpearmanrResult(correlation=0.009361880117107414, pvalue=0.7748459641091879)"
     },
     "execution_count": 41,
     "metadata": {},
     "output_type": "execute_result"
    }
   ],
   "source": [
    "# Spearman correlation\n",
    "print(\"fold change v.s. closeness\")\n",
    "centrality_measure = closeness_centrality\n",
    "x, y = zip(*[(phospho_measure_values[gene_name], centrality_measure[gene_name]) for gene_name in common])\n",
    "scipy.stats.spearmanr(x, y, nan_policy='omit')"
   ]
  },
  {
   "cell_type": "code",
   "execution_count": 42,
   "metadata": {},
   "outputs": [
    {
     "name": "stdout",
     "output_type": "stream",
     "text": [
      "fold change v.s. betweeness\n"
     ]
    },
    {
     "data": {
      "text/plain": "SpearmanrResult(correlation=-0.034776560611089545, pvalue=0.2878463936598121)"
     },
     "execution_count": 42,
     "metadata": {},
     "output_type": "execute_result"
    }
   ],
   "source": [
    "# Spearman correlation\n",
    "print(\"fold change v.s. betweeness\")\n",
    "centrality_measure = betweenness_centrality\n",
    "x, y = zip(*[(phospho_measure_values[gene_name], centrality_measure[gene_name]) for gene_name in common])\n",
    "scipy.stats.spearmanr(x, y, nan_policy='omit')"
   ]
  },
  {
   "cell_type": "code",
   "execution_count": 43,
   "metadata": {},
   "outputs": [
    {
     "name": "stdout",
     "output_type": "stream",
     "text": [
      "fold change v.s. degree\n"
     ]
    },
    {
     "data": {
      "text/plain": "SpearmanrResult(correlation=-0.0026044946131159627, pvalue=0.9365745877402011)"
     },
     "execution_count": 43,
     "metadata": {},
     "output_type": "execute_result"
    }
   ],
   "source": [
    "# Spearman correlation\n",
    "print(\"fold change v.s. degree\")\n",
    "centrality_measure = degree_centrality\n",
    "x, y = zip(*[(phospho_measure_values[gene_name], centrality_measure[gene_name]) for gene_name in common])\n",
    "scipy.stats.spearmanr(x, y, nan_policy='omit')"
   ]
  },
  {
   "cell_type": "code",
   "execution_count": 44,
   "metadata": {},
   "outputs": [],
   "source": [
    "phospho_measure = 'Non-outlier concentration' # 'log2 fold change'\n",
    "phospho_measure_values = phospho_dataframe.groupby('Gene name')[phospho_measure].mean()"
   ]
  },
  {
   "cell_type": "code",
   "execution_count": 45,
   "metadata": {},
   "outputs": [
    {
     "name": "stdout",
     "output_type": "stream",
     "text": [
      "Concentration v.s. closeness\n"
     ]
    },
    {
     "data": {
      "text/plain": "SpearmanrResult(correlation=0.022833162081066543, pvalue=0.5130300457470531)"
     },
     "execution_count": 45,
     "metadata": {},
     "output_type": "execute_result"
    }
   ],
   "source": [
    "# Spearman correlation\n",
    "print(\"Concentration v.s. closeness\")\n",
    "centrality_measure = closeness_centrality\n",
    "x, y = zip(*[(phospho_measure_values[gene_name], centrality_measure[gene_name]) for gene_name in common])\n",
    "scipy.stats.spearmanr(x, y, nan_policy='omit')"
   ]
  },
  {
   "cell_type": "code",
   "execution_count": 46,
   "metadata": {},
   "outputs": [
    {
     "name": "stdout",
     "output_type": "stream",
     "text": [
      "Concentration v.s. betweenness\n"
     ]
    },
    {
     "data": {
      "text/plain": "SpearmanrResult(correlation=0.06810497016921126, pvalue=0.05080866183702682)"
     },
     "execution_count": 46,
     "metadata": {},
     "output_type": "execute_result"
    }
   ],
   "source": [
    "# Spearman correlation\n",
    "print(\"Concentration v.s. betweenness\")\n",
    "centrality_measure = betweenness_centrality\n",
    "x, y = zip(*[(phospho_measure_values[gene_name], centrality_measure[gene_name]) for gene_name in common])\n",
    "scipy.stats.spearmanr(x, y, nan_policy='omit')"
   ]
  },
  {
   "cell_type": "code",
   "execution_count": 47,
   "metadata": {},
   "outputs": [
    {
     "name": "stdout",
     "output_type": "stream",
     "text": [
      "Concentration v.s. centrality\n"
     ]
    },
    {
     "data": {
      "text/plain": "SpearmanrResult(correlation=0.049234667214478285, pvalue=0.15819977572896315)"
     },
     "execution_count": 47,
     "metadata": {},
     "output_type": "execute_result"
    }
   ],
   "source": [
    "# Spearman correlation\n",
    "print(\"Concentration v.s. centrality\")\n",
    "centrality_measure = degree_centrality\n",
    "x, y = zip(*[(phospho_measure_values[gene_name], centrality_measure[gene_name]) for gene_name in common])\n",
    "scipy.stats.spearmanr(x, y, nan_policy='omit')"
   ]
  },
  {
   "cell_type": "markdown",
   "metadata": {
    "pycharm": {
     "name": "#%% md\n"
    }
   },
   "source": [
    "## Up/Down analysis"
   ]
  },
  {
   "cell_type": "code",
   "source": [
    "phospho_measures = ['log2 fold change', '1-prob']\n",
    "phospho_measure_values = phospho_dataframe.groupby('Gene name')[phospho_measures].mean()\n",
    "phospho_measure_values.columns = ['fold', 'prob']"
   ],
   "metadata": {
    "collapsed": false,
    "pycharm": {
     "name": "#%%\n"
    }
   },
   "execution_count": 110,
   "outputs": []
  },
  {
   "cell_type": "code",
   "execution_count": 111,
   "metadata": {},
   "outputs": [],
   "source": [
    "def get_up_down_sets(data, fold_threshold, p_threshold):\n",
    "    up_proteins = data.loc[(abs(data['fold']) > fold_threshold) &\n",
    "                       (data['prob'] < p_threshold)]\n",
    "    down_proteins = data.loc[(abs(data['fold']) < -fold_threshold) &\n",
    "                       (data['prob'] < p_threshold)]\n",
    "    print(\"overactivated proteins: {}, underactivated proteins: {}, rest: {}\".format(len(up_proteins),\n",
    "        len(down_proteins), len(data) - len(up_proteins) - len(down_proteins)))\n",
    "    return up_proteins, down_proteins"
   ]
  },
  {
   "cell_type": "markdown",
   "metadata": {},
   "source": [
    "### Individual node scores"
   ]
  },
  {
   "cell_type": "code",
   "execution_count": 112,
   "metadata": {},
   "outputs": [
    {
     "name": "stdout",
     "output_type": "stream",
     "text": [
      "2-fold, p < 0.05\n",
      "overactivated proteins: 0, underactivated proteins: 0, rest: 1595\n",
      "metric means: up: nan, down: nan, total: 2.33e-01\n",
      "p-values for metric closeness (against full set): up: 0.00e+00, down: 0.00e+00\n",
      "\n",
      "metric means: up: nan, down: nan, total: 6.18e-04\n",
      "p-values for metric betweenness (against full set): up: 0.00e+00, down: 0.00e+00\n",
      "\n",
      "metric means: up: nan, down: nan, total: 1.04e-03\n",
      "p-values for metric degree (against full set): up: 0.00e+00, down: 0.00e+00\n",
      "\n",
      "1-fold, p < 0.2\n",
      "overactivated proteins: 12, underactivated proteins: 0, rest: 1583\n",
      "metric means: up: 2.57e-01, down: nan, total: 2.33e-01\n",
      "p-values for metric closeness (against full set): up: 4.03e-02, down: 0.00e+00\n",
      "\n",
      "metric means: up: 1.06e-03, down: nan, total: 6.18e-04\n",
      "p-values for metric betweenness (against full set): up: 7.34e-02, down: 0.00e+00\n",
      "\n",
      "metric means: up: 1.82e-03, down: nan, total: 1.04e-03\n",
      "p-values for metric degree (against full set): up: 5.90e-02, down: 0.00e+00\n",
      "\n",
      "0.5-fold, p < 0.3\n",
      "overactivated proteins: 63, underactivated proteins: 0, rest: 1532\n",
      "metric means: up: 2.33e-01, down: nan, total: 2.33e-01\n",
      "p-values for metric closeness (against full set): up: 3.77e-01, down: 0.00e+00\n",
      "\n",
      "metric means: up: 7.26e-04, down: nan, total: 6.18e-04\n",
      "p-values for metric betweenness (against full set): up: 2.31e-01, down: 0.00e+00\n",
      "\n",
      "metric means: up: 1.16e-03, down: nan, total: 1.04e-03\n",
      "p-values for metric degree (against full set): up: 2.46e-01, down: 0.00e+00\n",
      "\n",
      "0.0-fold, p < 0.3\n",
      "overactivated proteins: 75, underactivated proteins: 0, rest: 1520\n",
      "metric means: up: 2.31e-01, down: nan, total: 2.33e-01\n",
      "p-values for metric closeness (against full set): up: 4.97e-01, down: 0.00e+00\n",
      "\n",
      "metric means: up: 6.73e-04, down: nan, total: 6.18e-04\n",
      "p-values for metric betweenness (against full set): up: 1.82e-01, down: 0.00e+00\n",
      "\n",
      "metric means: up: 1.10e-03, down: nan, total: 1.04e-03\n",
      "p-values for metric degree (against full set): up: 2.78e-01, down: 0.00e+00\n",
      "\n",
      "0.5-fold, p < 1\n",
      "overactivated proteins: 219, underactivated proteins: 0, rest: 1376\n",
      "metric means: up: 2.34e-01, down: nan, total: 2.33e-01\n",
      "p-values for metric closeness (against full set): up: 3.84e-01, down: 0.00e+00\n",
      "\n",
      "metric means: up: 7.59e-04, down: nan, total: 6.18e-04\n",
      "p-values for metric betweenness (against full set): up: 2.79e-01, down: 0.00e+00\n",
      "\n",
      "metric means: up: 1.13e-03, down: nan, total: 1.04e-03\n",
      "p-values for metric degree (against full set): up: 2.52e-01, down: 0.00e+00\n",
      "\n"
     ]
    },
    {
     "name": "stderr",
     "output_type": "stream",
     "text": [
      "c:\\users\\ariel\\pycharmprojects\\fly_regulation\\venv\\lib\\site-packages\\numpy\\core\\fromnumeric.py:3372: RuntimeWarning: Mean of empty slice.\n",
      "  return _methods._mean(a, axis=axis, dtype=dtype,\n",
      "c:\\users\\ariel\\pycharmprojects\\fly_regulation\\venv\\lib\\site-packages\\numpy\\core\\_methods.py:170: RuntimeWarning: invalid value encountered in double_scalars\n",
      "  ret = ret.dtype.type(ret / rcount)\n",
      "c:\\users\\ariel\\pycharmprojects\\fly_regulation\\venv\\lib\\site-packages\\scipy\\stats\\stats.py:7028: RuntimeWarning: divide by zero encountered in double_scalars\n",
      "  z = (bigu - meanrank) / sd\n",
      "c:\\users\\ariel\\pycharmprojects\\fly_regulation\\venv\\lib\\site-packages\\numpy\\core\\fromnumeric.py:3372: RuntimeWarning: Mean of empty slice.\n",
      "  return _methods._mean(a, axis=axis, dtype=dtype,\n",
      "c:\\users\\ariel\\pycharmprojects\\fly_regulation\\venv\\lib\\site-packages\\numpy\\core\\_methods.py:170: RuntimeWarning: invalid value encountered in double_scalars\n",
      "  ret = ret.dtype.type(ret / rcount)\n",
      "c:\\users\\ariel\\pycharmprojects\\fly_regulation\\venv\\lib\\site-packages\\scipy\\stats\\stats.py:7028: RuntimeWarning: divide by zero encountered in double_scalars\n",
      "  z = (bigu - meanrank) / sd\n",
      "c:\\users\\ariel\\pycharmprojects\\fly_regulation\\venv\\lib\\site-packages\\numpy\\core\\fromnumeric.py:3372: RuntimeWarning: Mean of empty slice.\n",
      "  return _methods._mean(a, axis=axis, dtype=dtype,\n",
      "c:\\users\\ariel\\pycharmprojects\\fly_regulation\\venv\\lib\\site-packages\\numpy\\core\\_methods.py:170: RuntimeWarning: invalid value encountered in double_scalars\n",
      "  ret = ret.dtype.type(ret / rcount)\n",
      "c:\\users\\ariel\\pycharmprojects\\fly_regulation\\venv\\lib\\site-packages\\scipy\\stats\\stats.py:7028: RuntimeWarning: divide by zero encountered in double_scalars\n",
      "  z = (bigu - meanrank) / sd\n",
      "c:\\users\\ariel\\pycharmprojects\\fly_regulation\\venv\\lib\\site-packages\\numpy\\core\\fromnumeric.py:3372: RuntimeWarning: Mean of empty slice.\n",
      "  return _methods._mean(a, axis=axis, dtype=dtype,\n",
      "c:\\users\\ariel\\pycharmprojects\\fly_regulation\\venv\\lib\\site-packages\\numpy\\core\\_methods.py:170: RuntimeWarning: invalid value encountered in double_scalars\n",
      "  ret = ret.dtype.type(ret / rcount)\n",
      "c:\\users\\ariel\\pycharmprojects\\fly_regulation\\venv\\lib\\site-packages\\scipy\\stats\\stats.py:7028: RuntimeWarning: divide by zero encountered in double_scalars\n",
      "  z = (bigu - meanrank) / sd\n",
      "c:\\users\\ariel\\pycharmprojects\\fly_regulation\\venv\\lib\\site-packages\\numpy\\core\\fromnumeric.py:3372: RuntimeWarning: Mean of empty slice.\n",
      "  return _methods._mean(a, axis=axis, dtype=dtype,\n",
      "c:\\users\\ariel\\pycharmprojects\\fly_regulation\\venv\\lib\\site-packages\\numpy\\core\\_methods.py:170: RuntimeWarning: invalid value encountered in double_scalars\n",
      "  ret = ret.dtype.type(ret / rcount)\n",
      "c:\\users\\ariel\\pycharmprojects\\fly_regulation\\venv\\lib\\site-packages\\scipy\\stats\\stats.py:7028: RuntimeWarning: divide by zero encountered in double_scalars\n",
      "  z = (bigu - meanrank) / sd\n"
     ]
    }
   ],
   "source": [
    "def metric_prot_scores(metric, proteins):\n",
    "    return [metric[p] for p in proteins if p in metric]\n",
    "\n",
    "def up_down_centrality_analysis(up_proteins, down_proteins, metric, metric_name):\n",
    "    up_metric = metric_prot_scores(metric, up_proteins.index)\n",
    "    down_metric = metric_prot_scores(metric, down_proteins.index)\n",
    "    total_metric = metric_prot_scores(metric, phospho_measure_values.index)\n",
    "    print(\"metric means: up: {:.2e}, down: {:.2e}, total: {:.2e}\".format(np.mean(up_metric),\n",
    "                                                                          np.mean(down_metric),\n",
    "                                                                          np.mean(total_metric)))\n",
    "    print(\"p-values for metric {} (against full set): up: {:.2e}, down: {:.2e}\".format(metric_name,\n",
    "        stats.mannwhitneyu(up_metric, total_metric)[1], stats.mannwhitneyu(down_metric, total_metric)[1]))\n",
    "\n",
    "    print(\"\")\n",
    "\n",
    "\n",
    "print(\"2-fold, p < 0.05\")\n",
    "up_proteins, down_proteins = get_up_down_sets(phospho_measure_values, fold_threshold=2, p_threshold=0.05)\n",
    "up_down_centrality_analysis(up_proteins, down_proteins, closeness_centrality, \"closeness\")\n",
    "up_down_centrality_analysis(up_proteins, down_proteins, betweenness_centrality, \"betweenness\")\n",
    "up_down_centrality_analysis(up_proteins, down_proteins, degree_centrality, \"degree\")\n",
    "\n",
    "print(\"1-fold, p < 0.2\")\n",
    "up_proteins, down_proteins = get_up_down_sets(phospho_measure_values, fold_threshold=1, p_threshold=0.2)\n",
    "up_down_centrality_analysis(up_proteins, down_proteins, closeness_centrality, \"closeness\")\n",
    "up_down_centrality_analysis(up_proteins, down_proteins, betweenness_centrality, \"betweenness\")\n",
    "up_down_centrality_analysis(up_proteins, down_proteins, degree_centrality, \"degree\")\n",
    "\n",
    "print(\"0.5-fold, p < 0.3\")\n",
    "up_proteins, down_proteins = get_up_down_sets(phospho_measure_values, fold_threshold=0.5, p_threshold=0.3)\n",
    "up_down_centrality_analysis(up_proteins, down_proteins, closeness_centrality, \"closeness\")\n",
    "up_down_centrality_analysis(up_proteins, down_proteins, betweenness_centrality, \"betweenness\")\n",
    "up_down_centrality_analysis(up_proteins, down_proteins, degree_centrality, \"degree\")\n",
    "\n",
    "\n",
    "print(\"0.0-fold, p < 0.3\")\n",
    "up_proteins, down_proteins = get_up_down_sets(phospho_measure_values, fold_threshold=0.0, p_threshold=0.3)\n",
    "up_down_centrality_analysis(up_proteins, down_proteins, closeness_centrality, \"closeness\")\n",
    "up_down_centrality_analysis(up_proteins, down_proteins, betweenness_centrality, \"betweenness\")\n",
    "up_down_centrality_analysis(up_proteins, down_proteins, degree_centrality, \"degree\")\n",
    "\n",
    "\n",
    "print(\"0.5-fold, p < 1\")\n",
    "up_proteins, down_proteins = get_up_down_sets(phospho_measure_values, fold_threshold=0.5, p_threshold=1)\n",
    "up_down_centrality_analysis(up_proteins, down_proteins, closeness_centrality, \"closeness\")\n",
    "up_down_centrality_analysis(up_proteins, down_proteins, betweenness_centrality, \"betweenness\")\n",
    "up_down_centrality_analysis(up_proteins, down_proteins, degree_centrality, \"degree\")"
   ]
  },
  {
   "cell_type": "code",
   "execution_count": 105,
   "metadata": {},
   "outputs": [],
   "source": [
    "def up_down_topological_analysis(up_proteins, down_proteins, topological_metric, random_iter,\n",
    "                                 metric_name):\n",
    "\n",
    "    up_value = topological_metric(up_proteins)\n",
    "    down_value = topological_metric(down_proteins)\n",
    "\n",
    "    # print(\"Generating up-sized sets\")\n",
    "    up_control_metric_values = []\n",
    "    for i in range(random_iter):\n",
    "        random_selection = np.random.choice(list(ppi.nodes.keys()), len(up_proteins))\n",
    "        control_value = topological_metric(random_selection)\n",
    "        up_control_metric_values.append(control_value)\n",
    "        # if not (i + 1) % 250:\n",
    "        #     print(\"Checked {} random sets\".format(i + 1))\n",
    "    up_control_average_metric = np.mean(up_control_metric_values)\n",
    "\n",
    "    # print(\"Generating down-sized sets\")\n",
    "    down_control_metric_values = []\n",
    "    for i in range(random_iter):\n",
    "        random_selection = np.random.choice(list(ppi.nodes.keys()), len(down_proteins))\n",
    "        control_value = topological_metric(random_selection)\n",
    "        down_control_metric_values.append(control_value)\n",
    "        # if not (i + 1) % 250:\n",
    "        #     print(\"Checked {} random sets\".format(i + 1))\n",
    "    down_control_average_metric = np.mean(down_control_metric_values)\n",
    "    \n",
    "    print(\"up metric v.s. expected: {:.2f}/{:.2f}\\ndown metric v.s. expected: {:.2f}/{:.2f}\".format(\n",
    "        up_value, up_control_average_metric, down_value, down_control_average_metric))\n",
    "\n",
    "    plt.figure(figsize=(25, 10))\n",
    "    if not np.all(np.isnan(up_control_metric_values)):\n",
    "        plt.subplot(1, 2, 1)\n",
    "        n, bins, patches = plt.hist(up_control_metric_values, density=True)\n",
    "        plt.axvline(np.mean(up_control_metric_values), color='k', linestyle='dashed', linewidth=1)\n",
    "        plt.axvline(up_value, color='r', linestyle='solid', linewidth=1)\n",
    "    #     loc = np.digitize(up_value, bins)\n",
    "    #     patches[np.clip(loc,  a_min=0, a_max=len(patches) - 1)].set_fc('r')\n",
    "    #     if loc != np.clip(loc, a_min=0, a_max=len(patches) - 1):\n",
    "    #         print(\"Warning: Up value outside control histogram\")\n",
    "        plt.title(\"hist for up sized sets:\")\n",
    "\n",
    "        sign = 1 if (up_value > up_control_average_metric) else -1\n",
    "        frac_more_extreme = len([val for val in up_control_metric_values if sign * val > sign * up_value]\n",
    "                                ) / float(len(up_control_metric_values))\n",
    "        print(\"p-value based on empricial tail size: {:.2e}\".format(frac_more_extreme))\n",
    "\n",
    "    if not np.all(np.isnan(down_control_metric_values)):\n",
    "        plt.subplot(1, 2, 2)\n",
    "        n, bins, patches= plt.hist(down_control_metric_values, density=True)\n",
    "        plt.axvline(np.mean(down_control_metric_values), color='k', linestyle='dashed', linewidth=1)\n",
    "        plt.axvline(down_value, color='r', linestyle='solid', linewidth=1)\n",
    "    #     loc = np.digitize(down_value, bins)\n",
    "    #     patches[np.clip(loc,  a_min=0, a_max=len(patches) - 1)].set_fc('r')\n",
    "    #     if loc != np.clip(loc, a_min=0, a_max=len(patches) - 1):\n",
    "    #         print(\"Warning: Down value outside control histogram\")\n",
    "        plt.title(\"hist for down sized sets\")\n",
    "\n",
    "        sign = 1 if (down_value > down_control_average_metric) else -1\n",
    "        frac_more_extreme = len([val for val in down_control_metric_values if sign * val > sign * down_value]\n",
    "                                ) / float(len(down_control_metric_values))\n",
    "        print(\"p-value based on empricial tail size: {:.2e}\".format(frac_more_extreme))\n",
    "\n",
    "    plt.show()\n"
   ]
  },
  {
   "cell_type": "markdown",
   "metadata": {},
   "source": [
    "### Internal edges count"
   ]
  },
  {
   "cell_type": "code",
   "execution_count": 106,
   "outputs": [],
   "source": [
    "phospho_measures = ['log2 fold change', '1-prob']\n",
    "phospho_measure_values = phospho_dataframe.groupby('Gene name')[phospho_measures].mean()\n",
    "phospho_measure_values.columns = ['fold', 'prob']\n"
   ],
   "metadata": {
    "collapsed": false,
    "pycharm": {
     "name": "#%%\n"
    }
   }
  },
  {
   "cell_type": "code",
   "execution_count": 107,
   "metadata": {},
   "outputs": [
    {
     "name": "stdout",
     "output_type": "stream",
     "text": [
      "With 1-fold, 0.2 p-value\n",
      "Internal edges by k choose 2\n",
      "overactivated proteins: 12, underactivated proteins: 0, rest: 1583\n",
      "up metric v.s. expected: 0.00/0.00\n",
      "down metric v.s. expected: nan/nan\n",
      "p-value based on empricial tail size: 0.00e+00\n",
      "Internal edges by total edges\n",
      "overactivated proteins: 12, underactivated proteins: 0, rest: 1583\n",
      "up metric v.s. expected: 0.00/0.00\n",
      "down metric v.s. expected: nan/nan\n",
      "p-value based on empricial tail size: 0.00e+00\n"
     ]
    },
    {
     "data": {
      "text/plain": "<Figure size 1800x720 with 1 Axes>",
      "image/png": "[encoded data removed]"
     },
     "metadata": {},
     "output_type": "display_data"
    },
    {
     "data": {
      "text/plain": "<Figure size 1800x720 with 1 Axes>",
      "image/png": "[encoded data removed]"
     },
     "metadata": {},
     "output_type": "display_data"
    }
   ],
   "source": [
    "def normalized_internal_edges_size(vertices):\n",
    "    orig_len = len(vertices)\n",
    "    vertices = [v for v in vertices if ppi.has_node(v)]\n",
    "    if len(vertices) == 0:\n",
    "        return np.nan\n",
    "    # print(\"Using only {} common ids out of {}\".format(len(vertices), orig_len))\n",
    "    internal_edges = len(ppi.subgraph(vertices).copy().edges)\n",
    "    normalizer = math.comb(len(vertices), 2)\n",
    "    return internal_edges / float(normalizer)\n",
    "\n",
    "def fraction_of_internal_edges(vertices):\n",
    "    orig_len = len(vertices)\n",
    "    vertices = [v for v in vertices if ppi.has_node(v)]\n",
    "    if len(vertices) == 0:\n",
    "        return np.nan\n",
    "    # print(\"Using only {} common ids out of {}\".format(len(vertices), orig_len))\n",
    "    internal_edges = len(ppi.subgraph(vertices).copy().edges)\n",
    "    total_edges = len(ppi.edge_boundary(vertices)) + internal_edges\n",
    "    return internal_edges / float(total_edges)\n",
    "\n",
    "print(\"With 1-fold, 0.2 p-value\")\n",
    "print(\"Internal edges by k choose 2\")\n",
    "up_proteins, down_proteins = get_up_down_sets(phospho_measure_values,\n",
    "                                              fold_threshold=1, p_threshold=0.2)\n",
    "up_down_topological_analysis(up_proteins.index, down_proteins.index,\n",
    "                             topological_metric=normalized_internal_edges_size, random_iter=1000,\n",
    "                             metric_name='Internal_edges_by_combinatorics_by_k_2')\n",
    "\n",
    "print(\"Internal edges by total edges\")\n",
    "up_proteins, down_proteins = get_up_down_sets(phospho_measure_values,\n",
    "                                              fold_threshold=1, p_threshold=0.2)\n",
    "up_down_topological_analysis(up_proteins.index, down_proteins.index,\n",
    "                             topological_metric=normalized_internal_edges_size, random_iter=1000,\n",
    "                             metric_name=\"Internal_edges_by_combinatorics_by_total_edges\")"
   ]
  },
  {
   "cell_type": "code",
   "execution_count": 108,
   "outputs": [
    {
     "name": "stdout",
     "output_type": "stream",
     "text": [
      "With 0.5-fold, 0.3 p-value\n",
      "Internal edges by k choose 2\n",
      "overactivated proteins: 63, underactivated proteins: 0, rest: 1532\n",
      "up metric v.s. expected: nan/0.00\n",
      "down metric v.s. expected: nan/nan\n",
      "p-value based on empricial tail size: 0.00e+00\n",
      "Internal edges by total edges\n",
      "overactivated proteins: 63, underactivated proteins: 0, rest: 1532\n",
      "up metric v.s. expected: nan/0.00\n",
      "down metric v.s. expected: nan/nan\n",
      "p-value based on empricial tail size: 0.00e+00\n"
     ]
    },
    {
     "data": {
      "text/plain": "<Figure size 1800x720 with 1 Axes>",
      "image/png": "[encoded data removed]"
     },
     "metadata": {},
     "output_type": "display_data"
    },
    {
     "data": {
      "text/plain": "<Figure size 1800x720 with 1 Axes>",
      "image/png": "[encoded data removed]"
     },
     "metadata": {},
     "output_type": "display_data"
    }
   ],
   "source": [
    "print(\"With 0.5-fold, 0.3 p-value\")\n",
    "print(\"Internal edges by k choose 2\")\n",
    "up_proteins, down_proteins = get_up_down_sets(phospho_measure_values,\n",
    "                                              fold_threshold=0.5, p_threshold=0.3)\n",
    "up_down_topological_analysis(up_proteins, down_proteins,\n",
    "                             topological_metric=normalized_internal_edges_size, random_iter=1000,\n",
    "                             metric_name=\"Internal_edges_by_combinatorics_by_k_2\")\n",
    "\n",
    "print(\"Internal edges by total edges\")\n",
    "up_proteins, down_proteins = get_up_down_sets(phospho_measure_values,\n",
    "                                              fold_threshold=0.5, p_threshold=0.3)\n",
    "up_down_topological_analysis(up_proteins, down_proteins,\n",
    "                             topological_metric=normalized_internal_edges_size, random_iter=1000,\n",
    "                             metric_name=\"Internal_edges_by_combinatorics_by_total_edges\")"
   ],
   "metadata": {
    "collapsed": false,
    "pycharm": {
     "name": "#%%\n"
    }
   }
  },
  {
   "cell_type": "markdown",
   "source": [
    "Path analysis"
   ],
   "metadata": {
    "collapsed": false,
    "pycharm": {
     "name": "#%% md\n"
    }
   }
  },
  {
   "cell_type": "code",
   "execution_count": 109,
   "outputs": [
    {
     "name": "stdout",
     "output_type": "stream",
     "text": [
      "With 1-fold, 0.2 p-value\n",
      "Average shortest path between nodes\n",
      "overactivated proteins: 12, underactivated proteins: 0, rest: 1583\n",
      "up metric v.s. expected: nan/5.43\n",
      "down metric v.s. expected: nan/nan\n",
      "p-value based on empricial tail size: 0.00e+00\n",
      "Average number of paths between nodes\n",
      "overactivated proteins: 12, underactivated proteins: 0, rest: 1583\n"
     ]
    },
    {
     "data": {
      "text/plain": "<Figure size 1800x720 with 1 Axes>",
      "image/png": "[encoded data removed]"
     },
     "metadata": {},
     "output_type": "display_data"
    },
    {
     "ename": "AttributeError",
     "evalue": "'Graph' object has no attribute 'all_simple_paths'",
     "output_type": "error",
     "traceback": [
      "\u001B[1;31m---------------------------------------------------------------------------\u001B[0m",
      "\u001B[1;31mAttributeError\u001B[0m                            Traceback (most recent call last)",
      "\u001B[1;32m<ipython-input-109-c48805bb9d3e>\u001B[0m in \u001B[0;36m<module>\u001B[1;34m\u001B[0m\n\u001B[0;32m     32\u001B[0m up_proteins, down_proteins = get_up_down_sets(phospho_measure_values,\n\u001B[0;32m     33\u001B[0m                                               fold_threshold=1, p_threshold=0.2)\n\u001B[1;32m---> 34\u001B[1;33m up_down_topological_analysis(up_proteins, down_proteins,\n\u001B[0m\u001B[0;32m     35\u001B[0m                              \u001B[0mtopological_metric\u001B[0m\u001B[1;33m=\u001B[0m\u001B[0maverage_num_paths\u001B[0m\u001B[1;33m,\u001B[0m \u001B[0mrandom_iter\u001B[0m\u001B[1;33m=\u001B[0m\u001B[1;36m1000\u001B[0m\u001B[1;33m,\u001B[0m\u001B[1;33m\u001B[0m\u001B[1;33m\u001B[0m\u001B[0m\n\u001B[0;32m     36\u001B[0m                              metric_name=\"average_num_paths\")\n",
      "\u001B[1;32m<ipython-input-105-94597f3f1c47>\u001B[0m in \u001B[0;36mup_down_topological_analysis\u001B[1;34m(up_proteins, down_proteins, topological_metric, random_iter, metric_name)\u001B[0m\n\u001B[0;32m      9\u001B[0m     \u001B[1;32mfor\u001B[0m \u001B[0mi\u001B[0m \u001B[1;32min\u001B[0m \u001B[0mrange\u001B[0m\u001B[1;33m(\u001B[0m\u001B[0mrandom_iter\u001B[0m\u001B[1;33m)\u001B[0m\u001B[1;33m:\u001B[0m\u001B[1;33m\u001B[0m\u001B[1;33m\u001B[0m\u001B[0m\n\u001B[0;32m     10\u001B[0m         \u001B[0mrandom_selection\u001B[0m \u001B[1;33m=\u001B[0m \u001B[0mnp\u001B[0m\u001B[1;33m.\u001B[0m\u001B[0mrandom\u001B[0m\u001B[1;33m.\u001B[0m\u001B[0mchoice\u001B[0m\u001B[1;33m(\u001B[0m\u001B[0mlist\u001B[0m\u001B[1;33m(\u001B[0m\u001B[0mppi\u001B[0m\u001B[1;33m.\u001B[0m\u001B[0mnodes\u001B[0m\u001B[1;33m.\u001B[0m\u001B[0mkeys\u001B[0m\u001B[1;33m(\u001B[0m\u001B[1;33m)\u001B[0m\u001B[1;33m)\u001B[0m\u001B[1;33m,\u001B[0m \u001B[0mlen\u001B[0m\u001B[1;33m(\u001B[0m\u001B[0mup_proteins\u001B[0m\u001B[1;33m)\u001B[0m\u001B[1;33m)\u001B[0m\u001B[1;33m\u001B[0m\u001B[1;33m\u001B[0m\u001B[0m\n\u001B[1;32m---> 11\u001B[1;33m         \u001B[0mcontrol_value\u001B[0m \u001B[1;33m=\u001B[0m \u001B[0mtopological_metric\u001B[0m\u001B[1;33m(\u001B[0m\u001B[0mrandom_selection\u001B[0m\u001B[1;33m)\u001B[0m\u001B[1;33m\u001B[0m\u001B[1;33m\u001B[0m\u001B[0m\n\u001B[0m\u001B[0;32m     12\u001B[0m         \u001B[0mup_control_metric_values\u001B[0m\u001B[1;33m.\u001B[0m\u001B[0mappend\u001B[0m\u001B[1;33m(\u001B[0m\u001B[0mcontrol_value\u001B[0m\u001B[1;33m)\u001B[0m\u001B[1;33m\u001B[0m\u001B[1;33m\u001B[0m\u001B[0m\n\u001B[0;32m     13\u001B[0m         \u001B[1;31m# if not (i + 1) % 250:\u001B[0m\u001B[1;33m\u001B[0m\u001B[1;33m\u001B[0m\u001B[1;33m\u001B[0m\u001B[0m\n",
      "\u001B[1;32m<ipython-input-109-c48805bb9d3e>\u001B[0m in \u001B[0;36maverage_num_paths\u001B[1;34m(vertices)\u001B[0m\n\u001B[0;32m     18\u001B[0m     \u001B[0mtotal_paths\u001B[0m \u001B[1;33m=\u001B[0m \u001B[1;36m0\u001B[0m\u001B[1;33m\u001B[0m\u001B[1;33m\u001B[0m\u001B[0m\n\u001B[0;32m     19\u001B[0m     \u001B[1;32mfor\u001B[0m \u001B[1;33m(\u001B[0m\u001B[0mu\u001B[0m\u001B[1;33m,\u001B[0m \u001B[0mv\u001B[0m\u001B[1;33m)\u001B[0m \u001B[1;32min\u001B[0m \u001B[0mitertools\u001B[0m\u001B[1;33m.\u001B[0m\u001B[0mcombinations\u001B[0m\u001B[1;33m(\u001B[0m\u001B[0mvertices\u001B[0m\u001B[1;33m,\u001B[0m \u001B[1;36m2\u001B[0m\u001B[1;33m)\u001B[0m\u001B[1;33m:\u001B[0m\u001B[1;33m\u001B[0m\u001B[1;33m\u001B[0m\u001B[0m\n\u001B[1;32m---> 20\u001B[1;33m         \u001B[0mtotal_paths\u001B[0m \u001B[1;33m+=\u001B[0m \u001B[0mlen\u001B[0m\u001B[1;33m(\u001B[0m\u001B[0mppi\u001B[0m\u001B[1;33m.\u001B[0m\u001B[0mall_simple_paths\u001B[0m\u001B[1;33m(\u001B[0m\u001B[0mu\u001B[0m\u001B[1;33m,\u001B[0m \u001B[0mv\u001B[0m\u001B[1;33m)\u001B[0m\u001B[1;33m)\u001B[0m\u001B[1;33m\u001B[0m\u001B[1;33m\u001B[0m\u001B[0m\n\u001B[0m\u001B[0;32m     21\u001B[0m     \u001B[1;32mreturn\u001B[0m \u001B[0mtotal_paths\u001B[0m \u001B[1;33m/\u001B[0m \u001B[0mfloat\u001B[0m\u001B[1;33m(\u001B[0m\u001B[0mmath\u001B[0m\u001B[1;33m.\u001B[0m\u001B[0mcomb\u001B[0m\u001B[1;33m(\u001B[0m\u001B[0mlen\u001B[0m\u001B[1;33m(\u001B[0m\u001B[0mvertices\u001B[0m\u001B[1;33m)\u001B[0m\u001B[1;33m,\u001B[0m \u001B[1;36m2\u001B[0m\u001B[1;33m)\u001B[0m\u001B[1;33m)\u001B[0m\u001B[1;33m\u001B[0m\u001B[1;33m\u001B[0m\u001B[0m\n\u001B[0;32m     22\u001B[0m \u001B[1;33m\u001B[0m\u001B[0m\n",
      "\u001B[1;31mAttributeError\u001B[0m: 'Graph' object has no attribute 'all_simple_paths'"
     ]
    }
   ],
   "source": [
    "def average_shortest_path(vertices):\n",
    "    orig_len = len(vertices)\n",
    "    vertices = [v for v in vertices if ppi.has_node(v)]\n",
    "    if len(vertices) == 0:\n",
    "        return np.nan\n",
    "    # print(\"Using only {} common ids out of {}\".format(len(vertices), orig_len))\n",
    "    total_len = 0\n",
    "    for (u, v) in itertools.combinations(vertices, 2):\n",
    "        total_len += len(networkx.shortest_path(ppi, u, v))\n",
    "    return total_len / float(math.comb(len(vertices), 2))\n",
    "\n",
    "def average_num_paths(vertices):\n",
    "    orig_len = len(vertices)\n",
    "    vertices = [v for v in vertices if ppi.has_node(v)]\n",
    "    if len(vertices) == 0:\n",
    "        return np.nan\n",
    "    # print(\"Using only {} common ids out of {}\".format(len(vertices), orig_len))\n",
    "    total_paths = 0\n",
    "    for (u, v) in itertools.combinations(vertices, 2):\n",
    "        total_paths += len(ppi.all_simple_paths(u, v))\n",
    "    return total_paths / float(math.comb(len(vertices), 2))\n",
    "\n",
    "print(\"With 1-fold, 0.2 p-value\")\n",
    "print(\"Average shortest path between nodes\")\n",
    "up_proteins, down_proteins = get_up_down_sets(phospho_measure_values,\n",
    "                                              fold_threshold=1, p_threshold=0.2)\n",
    "up_down_topological_analysis(up_proteins, down_proteins,\n",
    "                             topological_metric=average_shortest_path, random_iter=1000,\n",
    "                             metric_name=\"average_shortest_path\")\n",
    "\n",
    "print(\"Average number of paths between nodes\")\n",
    "up_proteins, down_proteins = get_up_down_sets(phospho_measure_values,\n",
    "                                              fold_threshold=1, p_threshold=0.2)\n",
    "up_down_topological_analysis(up_proteins, down_proteins,\n",
    "                             topological_metric=average_num_paths, random_iter=1000,\n",
    "                             metric_name=\"average_num_paths\")"
   ],
   "metadata": {
    "collapsed": false,
    "pycharm": {
     "name": "#%%\n"
    }
   }
  },
  {
   "cell_type": "code",
   "execution_count": null,
   "outputs": [],
   "source": [
    "print(\"With 0.5-fold, 0.3 p-value\")\n",
    "print(\"Average shortest path between nodes\")\n",
    "up_proteins, down_proteins = get_up_down_sets(phospho_measure_values,\n",
    "                                              fold_threshold=0.5, p_threshold=0.3)\n",
    "up_down_topological_analysis(up_proteins, down_proteins,\n",
    "                             topological_metric=average_shortest_path, random_iter=1000,\n",
    "                             metric_name=\"average_shortest_path\")\n",
    "\n",
    "print(\"Average number of paths between nodes\")\n",
    "up_proteins, down_proteins = get_up_down_sets(phospho_measure_values,\n",
    "                                              fold_threshold=0.5, p_threshold=0.3)\n",
    "up_down_topological_analysis(up_proteins, down_proteins,\n",
    "                             topological_metric=average_num_paths, random_iter=1000,\n",
    "                             metric_name=\"average_num_paths\")"
   ],
   "metadata": {
    "collapsed": false,
    "pycharm": {
     "name": "#%%\n"
    }
   }
  },
  {
   "cell_type": "code",
   "execution_count": null,
   "outputs": [],
   "source": [],
   "metadata": {
    "collapsed": false,
    "pycharm": {
     "name": "#%%\n"
    }
   }
  }
 ],
 "metadata": {
  "kernelspec": {
   "display_name": "Python 3",
   "language": "python",
   "name": "python3"
  },
  "language_info": {
   "codemirror_mode": {
    "name": "ipython",
    "version": 3
   },
   "file_extension": ".py",
   "mimetype": "text/x-python",
   "name": "python",
   "nbconvert_exporter": "python",
   "pygments_lexer": "ipython3",
   "version": "3.7.3"
  }
 },
 "nbformat": 4,
 "nbformat_minor": 4
}